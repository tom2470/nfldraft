{
 "cells": [
  {
   "cell_type": "code",
   "execution_count": 1,
   "metadata": {},
   "outputs": [],
   "source": [
    "import pandas as pd\n",
    "result14=pd.read_csv('data/result2014.csv')\n",
    "result14['Year']=2014\n",
    "result15=pd.read_csv('data/result2015.csv')\n",
    "result15['Year']=2015\n",
    "result16=pd.read_csv('data/result2016.csv')\n",
    "result16['Year']=2016\n",
    "result17=pd.read_csv('data/result2017.csv')\n",
    "result17['Year']=2017\n",
    "result18=pd.read_csv('data/result2018.csv')\n",
    "result18['Year']=2018\n",
    "result19=pd.read_csv('data/result2019.csv')\n",
    "result19['Year']=2019\n",
    "result20=pd.read_csv('data/result2020.csv')\n",
    "result20['Year']=2020\n",
    "result21=pd.read_csv('data/result2021.csv', encoding='latin1')\n",
    "result21['Year']=2021\n",
    "result22=pd.read_csv('data/result2022.csv')\n",
    "result22['Year']=2022\n",
    "df=pd.concat([result14,result15,result16,result17,result18,result19,result20,result21,result22])"
   ]
  },
  {
   "cell_type": "code",
   "execution_count": 2,
   "metadata": {},
   "outputs": [
    {
     "name": "stdout",
     "output_type": "stream",
     "text": [
      "  Round Pick   Tm            Player Pos Age    To AP1 PB St  ...  \\\n",
      "0     1    1  HOU  Jadeveon Clowney  DE  21  2023   0  3  8  ...   \n",
      "1     1    2  STL     Greg Robinson   T  21  2019   0  0  5  ...   \n",
      "2     1    3  JAX     Blake Bortles  QB  22  2019   0  0  5  ...   \n",
      "3     1    4  BUF     Sammy Watkins  WR  21  2022   0  0  6  ...   \n",
      "4     1    5  OAK       Khalil Mack  LB  23  2023   3  8  8  ...   \n",
      "\n",
      "  (0, 'JR_Kick Ret_Avg') (0, 'JR_Kick Ret_TD') (0, 'SR_Punt Ret_Ret')  \\\n",
      "0                    0.0                   0.0                    0.0   \n",
      "1                    0.0                   0.0                    0.0   \n",
      "2                    0.0                   0.0                    0.0   \n",
      "3                    0.0                   0.0                    0.0   \n",
      "4                    0.0                   0.0                    0.0   \n",
      "\n",
      "  (0, 'SR_Punt Ret_Yds') (0, 'SR_Punt Ret_Avg') (0, 'SR_Punt Ret_TD')  \\\n",
      "0                    0.0                    0.0                   0.0   \n",
      "1                    0.0                    0.0                   0.0   \n",
      "2                    0.0                    0.0                   0.0   \n",
      "3                    0.0                    0.0                   0.0   \n",
      "4                    0.0                    0.0                   0.0   \n",
      "\n",
      "  (0, 'SR_Kick Ret_Ret') (0, 'SR_Kick Ret_Yds') (0, 'SR_Kick Ret_Avg')  \\\n",
      "0                    0.0                    0.0                    0.0   \n",
      "1                    0.0                    0.0                    0.0   \n",
      "2                    0.0                    0.0                    0.0   \n",
      "3                    0.0                    0.0                    0.0   \n",
      "4                    0.0                    0.0                    0.0   \n",
      "\n",
      "  (0, 'SR_Kick Ret_TD')  \n",
      "0                   0.0  \n",
      "1                   0.0  \n",
      "2                   0.0  \n",
      "3                   0.0  \n",
      "4                   0.0  \n",
      "\n",
      "[5 rows x 243 columns]\n"
     ]
    }
   ],
   "source": [
    "df.fillna(value = 0,inplace = True)\n",
    "df.iloc[:,0]\n",
    "columns_to_drop = [col for col in df.columns[31:] if df[col].dtype == 'object']\n",
    "\n",
    "# Drop identified columns\n",
    "new_names = {\n",
    "    0: 'Round', 1: 'Pick', 2: 'Tm', 3: 'Player', 4: 'Pos', 5: 'Age', 6: 'To', 7: 'AP1', 8: 'PB', 9: 'St', 10: 'wAV',\n",
    "    11: 'DrAV', 12: 'G', 13: 'Cmp', 14: 'Att', 15: 'Yds', 16: 'TD', 17: 'Int', 18: 'Att', 19: 'Yds', 20: 'TD',\n",
    "    21: 'Rec', 22: 'Yds', 23: 'TD', 24: 'Solo', 25: 'Int', 26: 'Sk', 27: 'College/Univ'\n",
    "}\n",
    "\n",
    "# Retrieve the current column names\n",
    "current_column_names = df.columns.tolist()\n",
    "\n",
    "# Rename the columns by index\n",
    "new_column_names = [new_names.get(i, name) for i, name in enumerate(current_column_names)]\n",
    "df.columns = new_column_names\n",
    "\n",
    "# Display the updated DataFrame\n",
    "print(df.head())"
   ]
  },
  {
   "cell_type": "code",
   "execution_count": 3,
   "metadata": {},
   "outputs": [
    {
     "name": "stderr",
     "output_type": "stream",
     "text": [
      "/var/folders/qw/m6qrt3vj0976sf8ywwy1ls_h0000gn/T/ipykernel_96228/133962605.py:3: DeprecationWarning: In a future version, `df.iloc[:, i] = newvals` will attempt to set the values inplace instead of always setting a new array. To retain the old behavior, use either `df[df.columns[i]] = newvals` or, if columns are non-unique, `df.isetitem(i, newvals)`\n",
      "  df.iloc[:,0]= df.iloc[:, 0].astype(float)\n"
     ]
    }
   ],
   "source": [
    "df.iloc[:, 31:] = df.iloc[:, 31:].astype(float)\n",
    "df = df[df.iloc[:, 0] != 'Rnd']\n",
    "df.iloc[:,0]= df.iloc[:, 0].astype(float)"
   ]
  },
  {
   "cell_type": "code",
   "execution_count": 4,
   "metadata": {},
   "outputs": [
    {
     "name": "stderr",
     "output_type": "stream",
     "text": [
      "/Library/Frameworks/Python.framework/Versions/3.10/lib/python3.10/site-packages/sklearn/model_selection/_split.py:725: UserWarning: The least populated class in y has only 2 members, which is less than n_splits=5.\n",
      "  warnings.warn(\n"
     ]
    },
    {
     "name": "stdout",
     "output_type": "stream",
     "text": [
      "Cross-Validation Scores: [0.14555256 0.1671159  0.15405405 0.17837838 0.15135135]\n",
      "Mean CV Score: 0.15929044947912874\n",
      "Training accuracy: 0.5701943844492441\n",
      "Testing accuracy: 0.13822894168466524\n"
     ]
    },
    {
     "data": {
      "text/plain": [
       "<Figure size 1000x600 with 0 Axes>"
      ]
     },
     "metadata": {},
     "output_type": "display_data"
    }
   ],
   "source": [
    "from sklearn.model_selection import train_test_split\n",
    "from sklearn.ensemble import RandomForestClassifier\n",
    "from sklearn.metrics import accuracy_score\n",
    "import numpy as np\n",
    "import matplotlib.pyplot as plt\n",
    "from sklearn.model_selection import cross_val_score\n",
    "X = df.iloc[:,30:]\n",
    "X.fillna(X.mean(), inplace=True)\n",
    "y = df.iloc[:,0]\n",
    "X_train, X_test, y_train, y_test = train_test_split(X, y, test_size=0.2, random_state=42)\n",
    "model = RandomForestClassifier(n_estimators=100, random_state=42)\n",
    "model.fit(X_train, y_train)\n",
    "cv_scores = cross_val_score(model, X_train, y_train, cv=5)\n",
    "print(\"Cross-Validation Scores:\", cv_scores)\n",
    "print(\"Mean CV Score:\", np.mean(cv_scores))\n",
    "y_pred_train = model.predict(X_train)\n",
    "y_pred_test = model.predict(X_test)\n",
    "train_accuracy = accuracy_score(y_train, y_pred_train)\n",
    "test_accuracy = accuracy_score(y_test, y_pred_test)\n",
    "print(\"Training accuracy:\", train_accuracy)\n",
    "print(\"Testing accuracy:\", test_accuracy)\n",
    "importances = model.feature_importances_\n",
    "indices = np.argsort(importances)[::-1]\n",
    "\n",
    "# Plot the feature importances\n",
    "plt.figure(figsize=(10, 6))\n",
    "plt.title(\"Feature Importances\")\n",
    "plt.bar(range(X_train.shape[1]), importances[indices], align=\"center\")\n",
    "plt.xticks(range(X_train.shape[1]), X_train.columns[indices], rotation=90)\n",
    "plt.xlim([-1, X_train.shape[1]])\n",
    "plt.tight_layout()\n",
    "plt.savefig('figs/first_feature_importance.png')\n",
    "plt.clf()"
   ]
  },
  {
   "cell_type": "code",
   "execution_count": 5,
   "metadata": {},
   "outputs": [
    {
     "name": "stdout",
     "output_type": "stream",
     "text": [
      "Model: \"sequential\"\n",
      "_________________________________________________________________\n",
      " Layer (type)                Output Shape              Param #   \n",
      "=================================================================\n",
      " dense (Dense)               (None, 100)               21400     \n",
      "                                                                 \n",
      " dropout (Dropout)           (None, 100)               0         \n",
      "                                                                 \n",
      " dense_1 (Dense)             (None, 50)                5050      \n",
      "                                                                 \n",
      " dropout_1 (Dropout)         (None, 50)                0         \n",
      "                                                                 \n",
      " dense_2 (Dense)             (None, 20)                1020      \n",
      "                                                                 \n",
      " dense_3 (Dense)             (None, 8)                 168       \n",
      "                                                                 \n",
      "=================================================================\n",
      "Total params: 27638 (107.96 KB)\n",
      "Trainable params: 27638 (107.96 KB)\n",
      "Non-trainable params: 0 (0.00 Byte)\n",
      "_________________________________________________________________\n",
      "None\n",
      "Epoch 1/20\n",
      "58/58 [==============================] - 0s 2ms/step - loss: 53.9682 - accuracy: 0.1317 - val_loss: 7.8041 - val_accuracy: 0.1469\n",
      "Epoch 2/20\n",
      "58/58 [==============================] - 0s 920us/step - loss: 14.2794 - accuracy: 0.1172 - val_loss: 2.3310 - val_accuracy: 0.1836\n",
      "Epoch 3/20\n",
      "58/58 [==============================] - 0s 938us/step - loss: 6.2714 - accuracy: 0.1431 - val_loss: 2.0852 - val_accuracy: 0.1793\n",
      "Epoch 4/20\n",
      "58/58 [==============================] - 0s 925us/step - loss: 3.6740 - accuracy: 0.1442 - val_loss: 2.1082 - val_accuracy: 0.1771\n",
      "Epoch 5/20\n",
      "58/58 [==============================] - 0s 872us/step - loss: 2.9042 - accuracy: 0.1539 - val_loss: 2.0459 - val_accuracy: 0.1771\n",
      "Epoch 6/20\n",
      "58/58 [==============================] - 0s 873us/step - loss: 2.5258 - accuracy: 0.1485 - val_loss: 2.0403 - val_accuracy: 0.1771\n",
      "Epoch 7/20\n",
      "58/58 [==============================] - 0s 852us/step - loss: 2.3559 - accuracy: 0.1528 - val_loss: 2.0350 - val_accuracy: 0.1771\n",
      "Epoch 8/20\n",
      "58/58 [==============================] - 0s 848us/step - loss: 2.2805 - accuracy: 0.1517 - val_loss: 2.0303 - val_accuracy: 0.1771\n",
      "Epoch 9/20\n",
      "58/58 [==============================] - 0s 854us/step - loss: 2.2447 - accuracy: 0.1566 - val_loss: 2.0259 - val_accuracy: 0.1771\n",
      "Epoch 10/20\n",
      "58/58 [==============================] - 0s 869us/step - loss: 2.1602 - accuracy: 0.1533 - val_loss: 2.0214 - val_accuracy: 0.1771\n",
      "Epoch 11/20\n",
      "58/58 [==============================] - 0s 853us/step - loss: 2.0963 - accuracy: 0.1566 - val_loss: 2.0177 - val_accuracy: 0.1771\n",
      "Epoch 12/20\n",
      "58/58 [==============================] - 0s 864us/step - loss: 2.1339 - accuracy: 0.1577 - val_loss: 2.0139 - val_accuracy: 0.1771\n",
      "Epoch 13/20\n",
      "58/58 [==============================] - 0s 853us/step - loss: 2.0781 - accuracy: 0.1577 - val_loss: 2.0105 - val_accuracy: 0.1771\n",
      "Epoch 14/20\n",
      "58/58 [==============================] - 0s 871us/step - loss: 2.0628 - accuracy: 0.1523 - val_loss: 2.0074 - val_accuracy: 0.1771\n",
      "Epoch 15/20\n",
      "58/58 [==============================] - 0s 855us/step - loss: 2.0434 - accuracy: 0.1544 - val_loss: 2.0044 - val_accuracy: 0.1771\n",
      "Epoch 16/20\n",
      "58/58 [==============================] - 0s 891us/step - loss: 2.0713 - accuracy: 0.1544 - val_loss: 2.0015 - val_accuracy: 0.1771\n",
      "Epoch 17/20\n",
      "58/58 [==============================] - 0s 908us/step - loss: 2.0867 - accuracy: 0.1523 - val_loss: 1.9989 - val_accuracy: 0.1771\n",
      "Epoch 18/20\n",
      "58/58 [==============================] - 0s 924us/step - loss: 2.0619 - accuracy: 0.1571 - val_loss: 1.9967 - val_accuracy: 0.1771\n",
      "Epoch 19/20\n",
      "58/58 [==============================] - 0s 907us/step - loss: 2.0927 - accuracy: 0.1533 - val_loss: 1.9944 - val_accuracy: 0.1771\n",
      "Epoch 20/20\n",
      "58/58 [==============================] - 0s 875us/step - loss: 2.0456 - accuracy: 0.1528 - val_loss: 1.9923 - val_accuracy: 0.1771\n",
      "15/15 [==============================] - 0s 414us/step - loss: 1.9923 - accuracy: 0.1771\n",
      "Testing Accuracy: 0.1771058291196823\n"
     ]
    }
   ],
   "source": [
    "import tensorflow as tf\n",
    "from tensorflow.keras.models import Sequential\n",
    "from tensorflow.keras.layers import Dense, Dropout\n",
    "model = Sequential([\n",
    "    Dense(100, activation='relu', input_shape=(X.shape[1],)),\n",
    "    Dropout(0.2),  # Dropout layer to prevent overfitting\n",
    "    Dense(50, activation='relu'),\n",
    "    Dropout(0.2),  # Dropout layer to prevent overfitting\n",
    "    Dense(20, activation='relu'),\n",
    "    Dense(8, activation='softmax')  # Output layer with 7 neurons for 7 rounds, using softmax activation for multi-class classification\n",
    "])\n",
    "model.compile(optimizer='adam', loss='sparse_categorical_crossentropy', metrics=['accuracy'])\n",
    "print(model.summary())\n",
    "history = model.fit(X_train, y_train, epochs=20, batch_size=32, validation_data=(X_test, y_test))\n",
    "test_loss, test_accuracy = model.evaluate(X_test, y_test)\n",
    "print(\"Testing Accuracy:\", test_accuracy)"
   ]
  },
  {
   "cell_type": "code",
   "execution_count": 6,
   "metadata": {},
   "outputs": [
    {
     "name": "stdout",
     "output_type": "stream",
     "text": [
      "Not enough samples for position group OT. Skipping...\n"
     ]
    },
    {
     "data": {
      "text/plain": [
       "<Figure size 800x500 with 0 Axes>"
      ]
     },
     "metadata": {},
     "output_type": "display_data"
    }
   ],
   "source": [
    "import matplotlib.pyplot as plt\n",
    "import numpy as np\n",
    "from sklearn.ensemble import RandomForestClassifier\n",
    "from sklearn.metrics import accuracy_score\n",
    "\n",
    "position_groups = df.groupby(df.iloc[:, 4])\n",
    "top_features_per_group = {}\n",
    "accuracy_per_group = {}\n",
    "\n",
    "for position, group_df in position_groups:\n",
    "    X = group_df.iloc[:, 31:]\n",
    "    y = group_df.iloc[:, 0]\n",
    "    if len(group_df) <= 1:\n",
    "        print(f\"Not enough samples for position group {position}. Skipping...\")\n",
    "        continue\n",
    "    X_train, X_test, y_train, y_test = train_test_split(X, y, test_size=0.2, random_state=42)\n",
    "    model = RandomForestClassifier(n_estimators=100, random_state=42)\n",
    "    model.fit(X_train, y_train)\n",
    "    feature_importances = model.feature_importances_\n",
    "    top_feature_indices = feature_importances.argsort()[-5:][::-1]\n",
    "    top_features = list(X.columns[top_feature_indices])\n",
    "    top_features_per_group[position] = top_features\n",
    "    y_pred = model.predict(X_test)\n",
    "    accuracy = accuracy_score(y_test, y_pred)\n",
    "    accuracy_per_group[position] = accuracy\n",
    "positions = list(top_features_per_group.keys())\n",
    "top_features_list = list(top_features_per_group.values())\n",
    "accuracies = list(accuracy_per_group.values())\n",
    "\n",
    "plt.figure(figsize=(8, 5))\n",
    "plt.bar(list(map(str, positions)), accuracies, color='skyblue')\n",
    "plt.xlabel('Position Group')\n",
    "plt.ylabel('Accuracy')\n",
    "plt.title('Accuracy by Position Group')\n",
    "plt.ylim(0, 1)\n",
    "plt.tight_layout()\n",
    "plt.savefig('figs/first_accuracy_before_stratification.png')\n",
    "plt.clf()"
   ]
  },
  {
   "cell_type": "code",
   "execution_count": 7,
   "metadata": {},
   "outputs": [
    {
     "data": {
      "text/plain": [
       "{0: [\"(0, 'SR_Kick Ret_TD')\",\n",
       "  \"(0, 'SO_Receiving_Avg')\",\n",
       "  \"(0, 'SO_Receiving_Rec')\",\n",
       "  \"(0, 'SO_Rushing_TD')\",\n",
       "  \"(0, 'SO_Rushing_Avg')\"],\n",
       " 'C': [\"(0, 'JR_Tackles_Tot')\",\n",
       "  \"(0, 'JR_Tackles_Solo')\",\n",
       "  \"(0, 'SO_Tackles_Tot')\",\n",
       "  \"(0, 'SO_Tackles_Solo')\",\n",
       "  \"(0, 'FR_Tackles_Tot')\"],\n",
       " 'CB': [\"(0, 'JR_Def Int_PD')\",\n",
       "  \"(0, 'SO_Tackles_Solo')\",\n",
       "  \"(0, 'FR_Tackles_Solo')\",\n",
       "  \"(0, 'SO_Tackles_Tot')\",\n",
       "  \"(0, 'JR_Tackles_Solo')\"],\n",
       " 'DB': [\"(0, 'SR_Tackles_Tot')\",\n",
       "  \"(0, 'JR_Tackles_Solo')\",\n",
       "  \"(0, 'SR_Tackles_Solo')\",\n",
       "  \"(0, 'SR_Def Int_PD')\",\n",
       "  \"(0, 'JR_Def Int_Int')\"],\n",
       " 'DE': [\"(0, 'JR_Tackles_Solo')\",\n",
       "  \"(0, 'SO_Tackles_Ast')\",\n",
       "  \"(0, 'JR_Tackles_Ast')\",\n",
       "  \"(0, 'FR_Tackles_Loss')\",\n",
       "  \"(0, 'SO_Tackles_Tot')\"],\n",
       " 'DL': [\"(0, 'SO_Tackles_Loss')\",\n",
       "  \"(0, 'FR_Tackles_Tot')\",\n",
       "  \"(0, 'SO_Tackles_Ast')\",\n",
       "  \"(0, 'JR_Tackles_Solo')\",\n",
       "  \"(0, 'JR_Tackles_Sk')\"],\n",
       " 'DT': [\"(0, 'JR_Tackles_Ast')\",\n",
       "  \"(0, 'FR_Tackles_Tot')\",\n",
       "  \"(0, 'SO_Tackles_Tot')\",\n",
       "  \"(0, 'JR_Tackles_Tot')\",\n",
       "  \"(0, 'JR_Tackles_Solo')\"],\n",
       " 'FB': [\"(0, 'SR_Rushing_Avg')\",\n",
       "  \"(0, 'FR_Rushing_Yds')\",\n",
       "  \"(0, 'SR_Rushing_Yds')\",\n",
       "  \"(0, 'SO_Receiving_Yds')\",\n",
       "  \"(0, 'SO_Scrimmage_Yds')\"],\n",
       " 'G': [\"(0, 'JR_Tackles_Solo')\",\n",
       "  \"(0, 'JR_Tackles_Tot')\",\n",
       "  \"(0, 'SO_Tackles_Solo')\",\n",
       "  \"(0, 'SR_Tackles_Solo')\",\n",
       "  \"(0, 'SO_Tackles_Tot')\"],\n",
       " 'ILB': [\"(0, 'SO_Tackles_Loss')\",\n",
       "  \"(0, 'JR_Tackles_Sk')\",\n",
       "  \"(0, 'SR_Tackles_Solo')\",\n",
       "  \"(0, 'JR_Def Int_PD')\",\n",
       "  \"(0, 'JR_Tackles_Ast')\"],\n",
       " 'K': [\"(0, 'SR_Kicking_FGM')\",\n",
       "  \"(0, 'SR_Kicking_XPA')\",\n",
       "  \"(0, 'SR_Kicking_FGA')\",\n",
       "  \"(0, 'SR_Kicking_FG%')\",\n",
       "  \"(0, 'JR_Kicking_Pts')\"],\n",
       " 'LB': [\"(0, 'SR_Tackles_Solo')\",\n",
       "  \"(0, 'JR_Tackles_Ast')\",\n",
       "  \"(0, 'JR_Tackles_Loss')\",\n",
       "  \"(0, 'SO_Tackles_Tot')\",\n",
       "  \"(0, 'JR_Tackles_Solo')\"],\n",
       " 'LS': [\"(0, 'JR_Tackles_Tot')\",\n",
       "  \"(0, 'JR_Tackles_Solo')\",\n",
       "  \"(0, 'SO_Tackles_Tot')\",\n",
       "  \"(0, 'SR_Tackles_Solo')\",\n",
       "  \"(0, 'SR_Tackles_Tot')\"],\n",
       " 'NT': [\"(0, 'SO_Tackles_Loss')\",\n",
       "  \"(0, 'JR_Def Int_PD')\",\n",
       "  \"(0, 'SR_Tackles_Solo')\",\n",
       "  \"(0, 'JR_Tackles_Sk')\",\n",
       "  \"(0, 'JR_Tackles_Solo')\"],\n",
       " 'OL': [\"(0, 'SO_Tackles_Tot')\",\n",
       "  \"(0, 'SO_Tackles_Solo')\",\n",
       "  \"(0, 'SR_Fumbles_FR')\",\n",
       "  \"(0, 'FR_Tackles_Ast')\",\n",
       "  \"(0, 'FR_Tackles_Tot')\"],\n",
       " 'OLB': [\"(0, 'SO_Tackles_Sk')\",\n",
       "  \"(0, 'JR_Tackles_Ast')\",\n",
       "  \"(0, 'FR_Tackles_Tot')\",\n",
       "  \"(0, 'SR_Tackles_Loss')\",\n",
       "  \"(0, 'FR_Tackles_Loss')\"],\n",
       " 'P': [\"(0, 'SO_Punting_Punts')\",\n",
       "  \"(0, 'JR_Punting_Yds')\",\n",
       "  \"(0, 'SR_Punting_Avg')\",\n",
       "  \"(0, 'FR_Punting_Yds')\",\n",
       "  \"(0, 'SR_Punting_Punts')\"],\n",
       " 'QB': [\"(0, 'JR_Passing_Cmp')\",\n",
       "  \"(0, 'JR_Passing_Yds')\",\n",
       "  \"(0, 'SO_Passing_TD')\",\n",
       "  \"(0, 'FR_Passing_Rate')\",\n",
       "  \"(0, 'JR_Passing_TD')\"],\n",
       " 'RB': [\"(0, 'JR_Scrimmage_Yds')\",\n",
       "  \"(0, 'SO_Receiving_Avg')\",\n",
       "  \"(0, 'SO_Scrimmage_Plays')\",\n",
       "  \"(0, 'JR_Scrimmage_Avg')\",\n",
       "  \"(0, 'FR_Scrimmage_Yds')\"],\n",
       " 'S': [\"(0, 'SO_Tackles_Solo')\",\n",
       "  \"(0, 'SR_Tackles_Tot')\",\n",
       "  \"(0, 'FR_Tackles_Ast')\",\n",
       "  \"(0, 'JR_Tackles_Tot')\",\n",
       "  \"(0, 'SO_Tackles_Ast')\"],\n",
       " 'T': [\"(0, 'JR_Tackles_Solo')\",\n",
       "  \"(0, 'JR_Tackles_Tot')\",\n",
       "  \"(0, 'SO_Tackles_Tot')\",\n",
       "  \"(0, 'SR_Tackles_Tot')\",\n",
       "  \"(0, 'SO_Tackles_Solo')\"],\n",
       " 'TE': [\"(0, 'SO_Receiving_Avg')\",\n",
       "  \"(0, 'JR_Scrimmage_Yds')\",\n",
       "  \"(0, 'JR_Scrimmage_Avg')\",\n",
       "  \"(0, 'JR_Receiving_Rec')\",\n",
       "  \"(0, 'JR_Receiving_Yds')\"],\n",
       " 'WR': [\"(0, 'SO_Receiving_Rec')\",\n",
       "  \"(0, 'JR_Scrimmage_Yds')\",\n",
       "  \"(0, 'JR_Receiving_Yds')\",\n",
       "  \"(0, 'JR_Scrimmage_TD')\",\n",
       "  \"(0, 'FR_Receiving_Yds')\"]}"
      ]
     },
     "execution_count": 7,
     "metadata": {},
     "output_type": "execute_result"
    }
   ],
   "source": [
    "top_features_per_group"
   ]
  },
  {
   "cell_type": "code",
   "execution_count": 8,
   "metadata": {},
   "outputs": [],
   "source": [
    "import re\n",
    "pattern = r'\\d+'\n",
    "combine=pd.read_csv('data/combine2005_2023.csv', encoding='latin1')\n",
    "combine.dropna(subset=['Drafted (tm/rnd/yr)'], inplace=True)"
   ]
  },
  {
   "cell_type": "code",
   "execution_count": 9,
   "metadata": {},
   "outputs": [
    {
     "name": "stdout",
     "output_type": "stream",
     "text": [
      "0       [5, 143, 2023]\n",
      "1       [5, 136, 2023]\n",
      "2        [3, 84, 2023]\n",
      "3        [1, 23, 2023]\n",
      "4       [4, 110, 2023]\n",
      "             ...      \n",
      "6377      [1, 7, 2005]\n",
      "6378    [4, 105, 2005]\n",
      "6379     [3, 72, 2005]\n",
      "6381    [7, 235, 2005]\n",
      "6382    [5, 172, 2005]\n",
      "Name: Drafted (tm/rnd/yr), Length: 4080, dtype: object\n"
     ]
    }
   ],
   "source": [
    "def drop_before_first_slash(s):\n",
    "    return '/'.join(s.split('/')[1:])\n",
    "combine['Drafted (tm/rnd/yr)'] = combine['Drafted (tm/rnd/yr)'].apply(drop_before_first_slash)\n",
    "combine['Drafted (tm/rnd/yr)'] =combine['Drafted (tm/rnd/yr)'].apply(str).apply(lambda x: re.findall(pattern,x))\n",
    "print(combine['Drafted (tm/rnd/yr)'])\n",
    "combine[['Round', 'Pick', 'Year']] = pd.DataFrame(combine['Drafted (tm/rnd/yr)'].tolist(), index=combine.index)\n",
    "combine.drop(columns=['Drafted (tm/rnd/yr)'], inplace=True)\n",
    "#combine.head()\n",
    "combine.dropna(subset=[\"Pick\"], inplace=True)\n",
    "combine = combine.apply(pd.to_numeric, errors='coerce')\n",
    "combine.dtypes\n",
    "combine.drop(columns=['Player','Pos','School','College','Ht','Player-additional'], inplace=True)"
   ]
  },
  {
   "cell_type": "code",
   "execution_count": 10,
   "metadata": {},
   "outputs": [
    {
     "name": "stdout",
     "output_type": "stream",
     "text": [
      "int64\n",
      "int64\n",
      "int64\n",
      "int64\n",
      "int64\n",
      "int64\n"
     ]
    }
   ],
   "source": [
    "df['Round'] = pd.to_numeric(df['Round'], errors='coerce')\n",
    "df = df.dropna(subset=['Round'])\n",
    "df['Pick'] = pd.to_numeric(df['Pick'], errors='coerce')\n",
    "df = df.dropna(subset=['Pick'])\n",
    "df['Round'] = df['Round'].astype('int64')\n",
    "df['Pick'] = df['Pick'].astype('int64')\n",
    "print(df.Year.dtype)\n",
    "print(df.Round.dtype)\n",
    "print(df.Pick.dtype)\n",
    "print(combine.Year.dtype)\n",
    "print(combine.Round.dtype)\n",
    "print(combine.Pick.dtype)"
   ]
  },
  {
   "cell_type": "code",
   "execution_count": 11,
   "metadata": {},
   "outputs": [],
   "source": [
    "df = pd.merge(df, combine, how='left', on=['Year','Round', 'Pick'])\n",
    "#df= df.drop_duplicates(subset=['Round', 'Year', 'Player'], keep='first')"
   ]
  },
  {
   "cell_type": "code",
   "execution_count": 12,
   "metadata": {},
   "outputs": [
    {
     "name": "stderr",
     "output_type": "stream",
     "text": [
      "/Library/Frameworks/Python.framework/Versions/3.10/lib/python3.10/site-packages/sklearn/utils/extmath.py:1051: RuntimeWarning: invalid value encountered in divide\n",
      "  updated_mean = (last_sum + new_sum) / updated_sample_count\n",
      "/Library/Frameworks/Python.framework/Versions/3.10/lib/python3.10/site-packages/sklearn/utils/extmath.py:1056: RuntimeWarning: invalid value encountered in divide\n",
      "  T = new_sum / new_sample_count\n",
      "/Library/Frameworks/Python.framework/Versions/3.10/lib/python3.10/site-packages/sklearn/utils/extmath.py:1076: RuntimeWarning: invalid value encountered in divide\n",
      "  new_unnormalized_variance -= correction**2 / new_sample_count\n",
      "/Library/Frameworks/Python.framework/Versions/3.10/lib/python3.10/site-packages/sklearn/utils/extmath.py:1051: RuntimeWarning: invalid value encountered in divide\n",
      "  updated_mean = (last_sum + new_sum) / updated_sample_count\n",
      "/Library/Frameworks/Python.framework/Versions/3.10/lib/python3.10/site-packages/sklearn/utils/extmath.py:1056: RuntimeWarning: invalid value encountered in divide\n",
      "  T = new_sum / new_sample_count\n",
      "/Library/Frameworks/Python.framework/Versions/3.10/lib/python3.10/site-packages/sklearn/utils/extmath.py:1076: RuntimeWarning: invalid value encountered in divide\n",
      "  new_unnormalized_variance -= correction**2 / new_sample_count\n",
      "/Library/Frameworks/Python.framework/Versions/3.10/lib/python3.10/site-packages/sklearn/utils/extmath.py:1051: RuntimeWarning: invalid value encountered in divide\n",
      "  updated_mean = (last_sum + new_sum) / updated_sample_count\n",
      "/Library/Frameworks/Python.framework/Versions/3.10/lib/python3.10/site-packages/sklearn/utils/extmath.py:1056: RuntimeWarning: invalid value encountered in divide\n",
      "  T = new_sum / new_sample_count\n",
      "/Library/Frameworks/Python.framework/Versions/3.10/lib/python3.10/site-packages/sklearn/utils/extmath.py:1076: RuntimeWarning: invalid value encountered in divide\n",
      "  new_unnormalized_variance -= correction**2 / new_sample_count\n",
      "/Library/Frameworks/Python.framework/Versions/3.10/lib/python3.10/site-packages/sklearn/utils/extmath.py:1051: RuntimeWarning: invalid value encountered in divide\n",
      "  updated_mean = (last_sum + new_sum) / updated_sample_count\n",
      "/Library/Frameworks/Python.framework/Versions/3.10/lib/python3.10/site-packages/sklearn/utils/extmath.py:1056: RuntimeWarning: invalid value encountered in divide\n",
      "  T = new_sum / new_sample_count\n",
      "/Library/Frameworks/Python.framework/Versions/3.10/lib/python3.10/site-packages/sklearn/utils/extmath.py:1076: RuntimeWarning: invalid value encountered in divide\n",
      "  new_unnormalized_variance -= correction**2 / new_sample_count\n",
      "/Library/Frameworks/Python.framework/Versions/3.10/lib/python3.10/site-packages/sklearn/utils/extmath.py:1051: RuntimeWarning: invalid value encountered in divide\n",
      "  updated_mean = (last_sum + new_sum) / updated_sample_count\n",
      "/Library/Frameworks/Python.framework/Versions/3.10/lib/python3.10/site-packages/sklearn/utils/extmath.py:1056: RuntimeWarning: invalid value encountered in divide\n",
      "  T = new_sum / new_sample_count\n",
      "/Library/Frameworks/Python.framework/Versions/3.10/lib/python3.10/site-packages/sklearn/utils/extmath.py:1076: RuntimeWarning: invalid value encountered in divide\n",
      "  new_unnormalized_variance -= correction**2 / new_sample_count\n",
      "/Library/Frameworks/Python.framework/Versions/3.10/lib/python3.10/site-packages/sklearn/utils/extmath.py:1051: RuntimeWarning: invalid value encountered in divide\n",
      "  updated_mean = (last_sum + new_sum) / updated_sample_count\n",
      "/Library/Frameworks/Python.framework/Versions/3.10/lib/python3.10/site-packages/sklearn/utils/extmath.py:1056: RuntimeWarning: invalid value encountered in divide\n",
      "  T = new_sum / new_sample_count\n",
      "/Library/Frameworks/Python.framework/Versions/3.10/lib/python3.10/site-packages/sklearn/utils/extmath.py:1076: RuntimeWarning: invalid value encountered in divide\n",
      "  new_unnormalized_variance -= correction**2 / new_sample_count\n",
      "/Library/Frameworks/Python.framework/Versions/3.10/lib/python3.10/site-packages/sklearn/utils/extmath.py:1051: RuntimeWarning: invalid value encountered in divide\n",
      "  updated_mean = (last_sum + new_sum) / updated_sample_count\n",
      "/Library/Frameworks/Python.framework/Versions/3.10/lib/python3.10/site-packages/sklearn/utils/extmath.py:1056: RuntimeWarning: invalid value encountered in divide\n",
      "  T = new_sum / new_sample_count\n",
      "/Library/Frameworks/Python.framework/Versions/3.10/lib/python3.10/site-packages/sklearn/utils/extmath.py:1076: RuntimeWarning: invalid value encountered in divide\n",
      "  new_unnormalized_variance -= correction**2 / new_sample_count\n",
      "/Library/Frameworks/Python.framework/Versions/3.10/lib/python3.10/site-packages/sklearn/utils/extmath.py:1051: RuntimeWarning: invalid value encountered in divide\n",
      "  updated_mean = (last_sum + new_sum) / updated_sample_count\n",
      "/Library/Frameworks/Python.framework/Versions/3.10/lib/python3.10/site-packages/sklearn/utils/extmath.py:1056: RuntimeWarning: invalid value encountered in divide\n",
      "  T = new_sum / new_sample_count\n",
      "/Library/Frameworks/Python.framework/Versions/3.10/lib/python3.10/site-packages/sklearn/utils/extmath.py:1076: RuntimeWarning: invalid value encountered in divide\n",
      "  new_unnormalized_variance -= correction**2 / new_sample_count\n",
      "/Library/Frameworks/Python.framework/Versions/3.10/lib/python3.10/site-packages/sklearn/utils/extmath.py:1051: RuntimeWarning: invalid value encountered in divide\n",
      "  updated_mean = (last_sum + new_sum) / updated_sample_count\n",
      "/Library/Frameworks/Python.framework/Versions/3.10/lib/python3.10/site-packages/sklearn/utils/extmath.py:1056: RuntimeWarning: invalid value encountered in divide\n",
      "  T = new_sum / new_sample_count\n",
      "/Library/Frameworks/Python.framework/Versions/3.10/lib/python3.10/site-packages/sklearn/utils/extmath.py:1076: RuntimeWarning: invalid value encountered in divide\n",
      "  new_unnormalized_variance -= correction**2 / new_sample_count\n",
      "/Library/Frameworks/Python.framework/Versions/3.10/lib/python3.10/site-packages/sklearn/utils/extmath.py:1051: RuntimeWarning: invalid value encountered in divide\n",
      "  updated_mean = (last_sum + new_sum) / updated_sample_count\n",
      "/Library/Frameworks/Python.framework/Versions/3.10/lib/python3.10/site-packages/sklearn/utils/extmath.py:1056: RuntimeWarning: invalid value encountered in divide\n",
      "  T = new_sum / new_sample_count\n",
      "/Library/Frameworks/Python.framework/Versions/3.10/lib/python3.10/site-packages/sklearn/utils/extmath.py:1076: RuntimeWarning: invalid value encountered in divide\n",
      "  new_unnormalized_variance -= correction**2 / new_sample_count\n",
      "/Library/Frameworks/Python.framework/Versions/3.10/lib/python3.10/site-packages/sklearn/utils/extmath.py:1051: RuntimeWarning: invalid value encountered in divide\n",
      "  updated_mean = (last_sum + new_sum) / updated_sample_count\n",
      "/Library/Frameworks/Python.framework/Versions/3.10/lib/python3.10/site-packages/sklearn/utils/extmath.py:1056: RuntimeWarning: invalid value encountered in divide\n",
      "  T = new_sum / new_sample_count\n",
      "/Library/Frameworks/Python.framework/Versions/3.10/lib/python3.10/site-packages/sklearn/utils/extmath.py:1076: RuntimeWarning: invalid value encountered in divide\n",
      "  new_unnormalized_variance -= correction**2 / new_sample_count\n",
      "/Library/Frameworks/Python.framework/Versions/3.10/lib/python3.10/site-packages/sklearn/utils/extmath.py:1051: RuntimeWarning: invalid value encountered in divide\n",
      "  updated_mean = (last_sum + new_sum) / updated_sample_count\n",
      "/Library/Frameworks/Python.framework/Versions/3.10/lib/python3.10/site-packages/sklearn/utils/extmath.py:1056: RuntimeWarning: invalid value encountered in divide\n",
      "  T = new_sum / new_sample_count\n",
      "/Library/Frameworks/Python.framework/Versions/3.10/lib/python3.10/site-packages/sklearn/utils/extmath.py:1076: RuntimeWarning: invalid value encountered in divide\n",
      "  new_unnormalized_variance -= correction**2 / new_sample_count\n",
      "/Library/Frameworks/Python.framework/Versions/3.10/lib/python3.10/site-packages/sklearn/utils/extmath.py:1051: RuntimeWarning: invalid value encountered in divide\n",
      "  updated_mean = (last_sum + new_sum) / updated_sample_count\n",
      "/Library/Frameworks/Python.framework/Versions/3.10/lib/python3.10/site-packages/sklearn/utils/extmath.py:1056: RuntimeWarning: invalid value encountered in divide\n",
      "  T = new_sum / new_sample_count\n",
      "/Library/Frameworks/Python.framework/Versions/3.10/lib/python3.10/site-packages/sklearn/utils/extmath.py:1076: RuntimeWarning: invalid value encountered in divide\n",
      "  new_unnormalized_variance -= correction**2 / new_sample_count\n",
      "/Library/Frameworks/Python.framework/Versions/3.10/lib/python3.10/site-packages/sklearn/utils/extmath.py:1051: RuntimeWarning: invalid value encountered in divide\n",
      "  updated_mean = (last_sum + new_sum) / updated_sample_count\n",
      "/Library/Frameworks/Python.framework/Versions/3.10/lib/python3.10/site-packages/sklearn/utils/extmath.py:1056: RuntimeWarning: invalid value encountered in divide\n",
      "  T = new_sum / new_sample_count\n",
      "/Library/Frameworks/Python.framework/Versions/3.10/lib/python3.10/site-packages/sklearn/utils/extmath.py:1076: RuntimeWarning: invalid value encountered in divide\n",
      "  new_unnormalized_variance -= correction**2 / new_sample_count\n",
      "/Library/Frameworks/Python.framework/Versions/3.10/lib/python3.10/site-packages/sklearn/utils/extmath.py:1051: RuntimeWarning: invalid value encountered in divide\n",
      "  updated_mean = (last_sum + new_sum) / updated_sample_count\n",
      "/Library/Frameworks/Python.framework/Versions/3.10/lib/python3.10/site-packages/sklearn/utils/extmath.py:1056: RuntimeWarning: invalid value encountered in divide\n",
      "  T = new_sum / new_sample_count\n",
      "/Library/Frameworks/Python.framework/Versions/3.10/lib/python3.10/site-packages/sklearn/utils/extmath.py:1076: RuntimeWarning: invalid value encountered in divide\n",
      "  new_unnormalized_variance -= correction**2 / new_sample_count\n",
      "/Library/Frameworks/Python.framework/Versions/3.10/lib/python3.10/site-packages/sklearn/utils/extmath.py:1051: RuntimeWarning: invalid value encountered in divide\n",
      "  updated_mean = (last_sum + new_sum) / updated_sample_count\n",
      "/Library/Frameworks/Python.framework/Versions/3.10/lib/python3.10/site-packages/sklearn/utils/extmath.py:1056: RuntimeWarning: invalid value encountered in divide\n",
      "  T = new_sum / new_sample_count\n",
      "/Library/Frameworks/Python.framework/Versions/3.10/lib/python3.10/site-packages/sklearn/utils/extmath.py:1076: RuntimeWarning: invalid value encountered in divide\n",
      "  new_unnormalized_variance -= correction**2 / new_sample_count\n",
      "/Library/Frameworks/Python.framework/Versions/3.10/lib/python3.10/site-packages/sklearn/utils/extmath.py:1051: RuntimeWarning: invalid value encountered in divide\n",
      "  updated_mean = (last_sum + new_sum) / updated_sample_count\n",
      "/Library/Frameworks/Python.framework/Versions/3.10/lib/python3.10/site-packages/sklearn/utils/extmath.py:1056: RuntimeWarning: invalid value encountered in divide\n",
      "  T = new_sum / new_sample_count\n",
      "/Library/Frameworks/Python.framework/Versions/3.10/lib/python3.10/site-packages/sklearn/utils/extmath.py:1076: RuntimeWarning: invalid value encountered in divide\n",
      "  new_unnormalized_variance -= correction**2 / new_sample_count\n",
      "/Library/Frameworks/Python.framework/Versions/3.10/lib/python3.10/site-packages/sklearn/utils/extmath.py:1051: RuntimeWarning: invalid value encountered in divide\n",
      "  updated_mean = (last_sum + new_sum) / updated_sample_count\n",
      "/Library/Frameworks/Python.framework/Versions/3.10/lib/python3.10/site-packages/sklearn/utils/extmath.py:1056: RuntimeWarning: invalid value encountered in divide\n",
      "  T = new_sum / new_sample_count\n",
      "/Library/Frameworks/Python.framework/Versions/3.10/lib/python3.10/site-packages/sklearn/utils/extmath.py:1076: RuntimeWarning: invalid value encountered in divide\n",
      "  new_unnormalized_variance -= correction**2 / new_sample_count\n",
      "/Library/Frameworks/Python.framework/Versions/3.10/lib/python3.10/site-packages/sklearn/utils/extmath.py:1051: RuntimeWarning: invalid value encountered in divide\n",
      "  updated_mean = (last_sum + new_sum) / updated_sample_count\n",
      "/Library/Frameworks/Python.framework/Versions/3.10/lib/python3.10/site-packages/sklearn/utils/extmath.py:1056: RuntimeWarning: invalid value encountered in divide\n",
      "  T = new_sum / new_sample_count\n",
      "/Library/Frameworks/Python.framework/Versions/3.10/lib/python3.10/site-packages/sklearn/utils/extmath.py:1076: RuntimeWarning: invalid value encountered in divide\n",
      "  new_unnormalized_variance -= correction**2 / new_sample_count\n",
      "/Library/Frameworks/Python.framework/Versions/3.10/lib/python3.10/site-packages/sklearn/utils/extmath.py:1051: RuntimeWarning: invalid value encountered in divide\n",
      "  updated_mean = (last_sum + new_sum) / updated_sample_count\n",
      "/Library/Frameworks/Python.framework/Versions/3.10/lib/python3.10/site-packages/sklearn/utils/extmath.py:1056: RuntimeWarning: invalid value encountered in divide\n",
      "  T = new_sum / new_sample_count\n",
      "/Library/Frameworks/Python.framework/Versions/3.10/lib/python3.10/site-packages/sklearn/utils/extmath.py:1076: RuntimeWarning: invalid value encountered in divide\n",
      "  new_unnormalized_variance -= correction**2 / new_sample_count\n",
      "/Library/Frameworks/Python.framework/Versions/3.10/lib/python3.10/site-packages/sklearn/utils/extmath.py:1051: RuntimeWarning: invalid value encountered in divide\n",
      "  updated_mean = (last_sum + new_sum) / updated_sample_count\n",
      "/Library/Frameworks/Python.framework/Versions/3.10/lib/python3.10/site-packages/sklearn/utils/extmath.py:1056: RuntimeWarning: invalid value encountered in divide\n",
      "  T = new_sum / new_sample_count\n",
      "/Library/Frameworks/Python.framework/Versions/3.10/lib/python3.10/site-packages/sklearn/utils/extmath.py:1076: RuntimeWarning: invalid value encountered in divide\n",
      "  new_unnormalized_variance -= correction**2 / new_sample_count\n",
      "/Library/Frameworks/Python.framework/Versions/3.10/lib/python3.10/site-packages/sklearn/utils/extmath.py:1051: RuntimeWarning: invalid value encountered in divide\n",
      "  updated_mean = (last_sum + new_sum) / updated_sample_count\n",
      "/Library/Frameworks/Python.framework/Versions/3.10/lib/python3.10/site-packages/sklearn/utils/extmath.py:1056: RuntimeWarning: invalid value encountered in divide\n",
      "  T = new_sum / new_sample_count\n",
      "/Library/Frameworks/Python.framework/Versions/3.10/lib/python3.10/site-packages/sklearn/utils/extmath.py:1076: RuntimeWarning: invalid value encountered in divide\n",
      "  new_unnormalized_variance -= correction**2 / new_sample_count\n",
      "/Library/Frameworks/Python.framework/Versions/3.10/lib/python3.10/site-packages/sklearn/utils/extmath.py:1051: RuntimeWarning: invalid value encountered in divide\n",
      "  updated_mean = (last_sum + new_sum) / updated_sample_count\n",
      "/Library/Frameworks/Python.framework/Versions/3.10/lib/python3.10/site-packages/sklearn/utils/extmath.py:1056: RuntimeWarning: invalid value encountered in divide\n",
      "  T = new_sum / new_sample_count\n",
      "/Library/Frameworks/Python.framework/Versions/3.10/lib/python3.10/site-packages/sklearn/utils/extmath.py:1076: RuntimeWarning: invalid value encountered in divide\n",
      "  new_unnormalized_variance -= correction**2 / new_sample_count\n",
      "/Library/Frameworks/Python.framework/Versions/3.10/lib/python3.10/site-packages/sklearn/utils/extmath.py:1051: RuntimeWarning: invalid value encountered in divide\n",
      "  updated_mean = (last_sum + new_sum) / updated_sample_count\n",
      "/Library/Frameworks/Python.framework/Versions/3.10/lib/python3.10/site-packages/sklearn/utils/extmath.py:1056: RuntimeWarning: invalid value encountered in divide\n",
      "  T = new_sum / new_sample_count\n",
      "/Library/Frameworks/Python.framework/Versions/3.10/lib/python3.10/site-packages/sklearn/utils/extmath.py:1076: RuntimeWarning: invalid value encountered in divide\n",
      "  new_unnormalized_variance -= correction**2 / new_sample_count\n",
      "/Library/Frameworks/Python.framework/Versions/3.10/lib/python3.10/site-packages/sklearn/utils/extmath.py:1051: RuntimeWarning: invalid value encountered in divide\n",
      "  updated_mean = (last_sum + new_sum) / updated_sample_count\n",
      "/Library/Frameworks/Python.framework/Versions/3.10/lib/python3.10/site-packages/sklearn/utils/extmath.py:1056: RuntimeWarning: invalid value encountered in divide\n",
      "  T = new_sum / new_sample_count\n",
      "/Library/Frameworks/Python.framework/Versions/3.10/lib/python3.10/site-packages/sklearn/utils/extmath.py:1076: RuntimeWarning: invalid value encountered in divide\n",
      "  new_unnormalized_variance -= correction**2 / new_sample_count\n",
      "/Library/Frameworks/Python.framework/Versions/3.10/lib/python3.10/site-packages/sklearn/utils/extmath.py:1051: RuntimeWarning: invalid value encountered in divide\n",
      "  updated_mean = (last_sum + new_sum) / updated_sample_count\n",
      "/Library/Frameworks/Python.framework/Versions/3.10/lib/python3.10/site-packages/sklearn/utils/extmath.py:1056: RuntimeWarning: invalid value encountered in divide\n",
      "  T = new_sum / new_sample_count\n",
      "/Library/Frameworks/Python.framework/Versions/3.10/lib/python3.10/site-packages/sklearn/utils/extmath.py:1076: RuntimeWarning: invalid value encountered in divide\n",
      "  new_unnormalized_variance -= correction**2 / new_sample_count\n",
      "/Library/Frameworks/Python.framework/Versions/3.10/lib/python3.10/site-packages/sklearn/utils/extmath.py:1051: RuntimeWarning: invalid value encountered in divide\n",
      "  updated_mean = (last_sum + new_sum) / updated_sample_count\n",
      "/Library/Frameworks/Python.framework/Versions/3.10/lib/python3.10/site-packages/sklearn/utils/extmath.py:1056: RuntimeWarning: invalid value encountered in divide\n",
      "  T = new_sum / new_sample_count\n",
      "/Library/Frameworks/Python.framework/Versions/3.10/lib/python3.10/site-packages/sklearn/utils/extmath.py:1076: RuntimeWarning: invalid value encountered in divide\n",
      "  new_unnormalized_variance -= correction**2 / new_sample_count\n",
      "/Library/Frameworks/Python.framework/Versions/3.10/lib/python3.10/site-packages/sklearn/utils/extmath.py:1051: RuntimeWarning: invalid value encountered in divide\n",
      "  updated_mean = (last_sum + new_sum) / updated_sample_count\n",
      "/Library/Frameworks/Python.framework/Versions/3.10/lib/python3.10/site-packages/sklearn/utils/extmath.py:1056: RuntimeWarning: invalid value encountered in divide\n",
      "  T = new_sum / new_sample_count\n",
      "/Library/Frameworks/Python.framework/Versions/3.10/lib/python3.10/site-packages/sklearn/utils/extmath.py:1076: RuntimeWarning: invalid value encountered in divide\n",
      "  new_unnormalized_variance -= correction**2 / new_sample_count\n",
      "/Library/Frameworks/Python.framework/Versions/3.10/lib/python3.10/site-packages/sklearn/utils/extmath.py:1051: RuntimeWarning: invalid value encountered in divide\n",
      "  updated_mean = (last_sum + new_sum) / updated_sample_count\n",
      "/Library/Frameworks/Python.framework/Versions/3.10/lib/python3.10/site-packages/sklearn/utils/extmath.py:1056: RuntimeWarning: invalid value encountered in divide\n",
      "  T = new_sum / new_sample_count\n",
      "/Library/Frameworks/Python.framework/Versions/3.10/lib/python3.10/site-packages/sklearn/utils/extmath.py:1076: RuntimeWarning: invalid value encountered in divide\n",
      "  new_unnormalized_variance -= correction**2 / new_sample_count\n",
      "/Library/Frameworks/Python.framework/Versions/3.10/lib/python3.10/site-packages/sklearn/utils/extmath.py:1051: RuntimeWarning: invalid value encountered in divide\n",
      "  updated_mean = (last_sum + new_sum) / updated_sample_count\n",
      "/Library/Frameworks/Python.framework/Versions/3.10/lib/python3.10/site-packages/sklearn/utils/extmath.py:1056: RuntimeWarning: invalid value encountered in divide\n",
      "  T = new_sum / new_sample_count\n",
      "/Library/Frameworks/Python.framework/Versions/3.10/lib/python3.10/site-packages/sklearn/utils/extmath.py:1076: RuntimeWarning: invalid value encountered in divide\n",
      "  new_unnormalized_variance -= correction**2 / new_sample_count\n",
      "/Library/Frameworks/Python.framework/Versions/3.10/lib/python3.10/site-packages/sklearn/utils/extmath.py:1051: RuntimeWarning: invalid value encountered in divide\n",
      "  updated_mean = (last_sum + new_sum) / updated_sample_count\n",
      "/Library/Frameworks/Python.framework/Versions/3.10/lib/python3.10/site-packages/sklearn/utils/extmath.py:1056: RuntimeWarning: invalid value encountered in divide\n",
      "  T = new_sum / new_sample_count\n",
      "/Library/Frameworks/Python.framework/Versions/3.10/lib/python3.10/site-packages/sklearn/utils/extmath.py:1076: RuntimeWarning: invalid value encountered in divide\n",
      "  new_unnormalized_variance -= correction**2 / new_sample_count\n",
      "/Library/Frameworks/Python.framework/Versions/3.10/lib/python3.10/site-packages/sklearn/utils/extmath.py:1051: RuntimeWarning: invalid value encountered in divide\n",
      "  updated_mean = (last_sum + new_sum) / updated_sample_count\n",
      "/Library/Frameworks/Python.framework/Versions/3.10/lib/python3.10/site-packages/sklearn/utils/extmath.py:1056: RuntimeWarning: invalid value encountered in divide\n",
      "  T = new_sum / new_sample_count\n",
      "/Library/Frameworks/Python.framework/Versions/3.10/lib/python3.10/site-packages/sklearn/utils/extmath.py:1076: RuntimeWarning: invalid value encountered in divide\n",
      "  new_unnormalized_variance -= correction**2 / new_sample_count\n",
      "/Library/Frameworks/Python.framework/Versions/3.10/lib/python3.10/site-packages/sklearn/utils/extmath.py:1051: RuntimeWarning: invalid value encountered in divide\n",
      "  updated_mean = (last_sum + new_sum) / updated_sample_count\n",
      "/Library/Frameworks/Python.framework/Versions/3.10/lib/python3.10/site-packages/sklearn/utils/extmath.py:1056: RuntimeWarning: invalid value encountered in divide\n",
      "  T = new_sum / new_sample_count\n",
      "/Library/Frameworks/Python.framework/Versions/3.10/lib/python3.10/site-packages/sklearn/utils/extmath.py:1076: RuntimeWarning: invalid value encountered in divide\n",
      "  new_unnormalized_variance -= correction**2 / new_sample_count\n",
      "/Library/Frameworks/Python.framework/Versions/3.10/lib/python3.10/site-packages/sklearn/utils/extmath.py:1051: RuntimeWarning: invalid value encountered in divide\n",
      "  updated_mean = (last_sum + new_sum) / updated_sample_count\n",
      "/Library/Frameworks/Python.framework/Versions/3.10/lib/python3.10/site-packages/sklearn/utils/extmath.py:1056: RuntimeWarning: invalid value encountered in divide\n",
      "  T = new_sum / new_sample_count\n",
      "/Library/Frameworks/Python.framework/Versions/3.10/lib/python3.10/site-packages/sklearn/utils/extmath.py:1076: RuntimeWarning: invalid value encountered in divide\n",
      "  new_unnormalized_variance -= correction**2 / new_sample_count\n",
      "/Library/Frameworks/Python.framework/Versions/3.10/lib/python3.10/site-packages/sklearn/utils/extmath.py:1051: RuntimeWarning: invalid value encountered in divide\n",
      "  updated_mean = (last_sum + new_sum) / updated_sample_count\n",
      "/Library/Frameworks/Python.framework/Versions/3.10/lib/python3.10/site-packages/sklearn/utils/extmath.py:1056: RuntimeWarning: invalid value encountered in divide\n",
      "  T = new_sum / new_sample_count\n",
      "/Library/Frameworks/Python.framework/Versions/3.10/lib/python3.10/site-packages/sklearn/utils/extmath.py:1076: RuntimeWarning: invalid value encountered in divide\n",
      "  new_unnormalized_variance -= correction**2 / new_sample_count\n",
      "/Library/Frameworks/Python.framework/Versions/3.10/lib/python3.10/site-packages/sklearn/utils/extmath.py:1051: RuntimeWarning: invalid value encountered in divide\n",
      "  updated_mean = (last_sum + new_sum) / updated_sample_count\n",
      "/Library/Frameworks/Python.framework/Versions/3.10/lib/python3.10/site-packages/sklearn/utils/extmath.py:1056: RuntimeWarning: invalid value encountered in divide\n",
      "  T = new_sum / new_sample_count\n",
      "/Library/Frameworks/Python.framework/Versions/3.10/lib/python3.10/site-packages/sklearn/utils/extmath.py:1076: RuntimeWarning: invalid value encountered in divide\n",
      "  new_unnormalized_variance -= correction**2 / new_sample_count\n",
      "/Library/Frameworks/Python.framework/Versions/3.10/lib/python3.10/site-packages/sklearn/utils/extmath.py:1051: RuntimeWarning: invalid value encountered in divide\n",
      "  updated_mean = (last_sum + new_sum) / updated_sample_count\n",
      "/Library/Frameworks/Python.framework/Versions/3.10/lib/python3.10/site-packages/sklearn/utils/extmath.py:1056: RuntimeWarning: invalid value encountered in divide\n",
      "  T = new_sum / new_sample_count\n",
      "/Library/Frameworks/Python.framework/Versions/3.10/lib/python3.10/site-packages/sklearn/utils/extmath.py:1076: RuntimeWarning: invalid value encountered in divide\n",
      "  new_unnormalized_variance -= correction**2 / new_sample_count\n",
      "/Library/Frameworks/Python.framework/Versions/3.10/lib/python3.10/site-packages/sklearn/utils/extmath.py:1051: RuntimeWarning: invalid value encountered in divide\n",
      "  updated_mean = (last_sum + new_sum) / updated_sample_count\n",
      "/Library/Frameworks/Python.framework/Versions/3.10/lib/python3.10/site-packages/sklearn/utils/extmath.py:1056: RuntimeWarning: invalid value encountered in divide\n",
      "  T = new_sum / new_sample_count\n",
      "/Library/Frameworks/Python.framework/Versions/3.10/lib/python3.10/site-packages/sklearn/utils/extmath.py:1076: RuntimeWarning: invalid value encountered in divide\n",
      "  new_unnormalized_variance -= correction**2 / new_sample_count\n",
      "/Library/Frameworks/Python.framework/Versions/3.10/lib/python3.10/site-packages/sklearn/utils/extmath.py:1051: RuntimeWarning: invalid value encountered in divide\n",
      "  updated_mean = (last_sum + new_sum) / updated_sample_count\n",
      "/Library/Frameworks/Python.framework/Versions/3.10/lib/python3.10/site-packages/sklearn/utils/extmath.py:1056: RuntimeWarning: invalid value encountered in divide\n",
      "  T = new_sum / new_sample_count\n",
      "/Library/Frameworks/Python.framework/Versions/3.10/lib/python3.10/site-packages/sklearn/utils/extmath.py:1076: RuntimeWarning: invalid value encountered in divide\n",
      "  new_unnormalized_variance -= correction**2 / new_sample_count\n"
     ]
    },
    {
     "name": "stdout",
     "output_type": "stream",
     "text": [
      "      Round  Pick   Tm            Player Pos Age    To AP1 PB St  ...  \\\n",
      "0         1     1  HOU  Jadeveon Clowney  DE  21  2023   0  3  8  ...   \n",
      "1         1     2  STL     Greg Robinson   T  21  2019   0  0  5  ...   \n",
      "2         1     3  JAX     Blake Bortles  QB  22  2019   0  0  5  ...   \n",
      "3         1     4  BUF     Sammy Watkins  WR  21  2022   0  0  6  ...   \n",
      "4         1     5  OAK       Khalil Mack  LB  23  2023   3  8  8  ...   \n",
      "...     ...   ...  ...               ...  ..  ..   ...  .. .. ..  ...   \n",
      "2308      7   258  GNB      Samori Toure  WR  24  2023   0  0  0  ...   \n",
      "2309      7   259  KAN    Nazeeh Johnson   S  24  2022   0  0  0  ...   \n",
      "2310      7   260  LAC    Zander Horvath  RB  23  2022   0  0  0  ...   \n",
      "2311      7   261  LAR         AJ Arcuri  OT  25  2022   0  0  0  ...   \n",
      "2312      7   262  SFO       Brock Purdy  QB  22  2023   0  1  0  ...   \n",
      "\n",
      "     (0, 'SR_Kick Ret_Avg') (0, 'SR_Kick Ret_TD')        Wt      40yd  \\\n",
      "0                   0.00000                   0.0 -0.284024 -2.158522   \n",
      "1                   0.00000                   0.0  1.847864 -1.381313   \n",
      "2                   0.00000                   0.0  1.026114  0.523604   \n",
      "3                   0.00000                   0.0  0.577033 -0.512680   \n",
      "4                   0.00000                   0.0  0.852219 -0.612605   \n",
      "...                     ...                   ...       ...       ...   \n",
      "2308               -0.19245                   0.0       NaN       NaN   \n",
      "2309                0.00000                   0.0       NaN       NaN   \n",
      "2310                0.00000                   0.0       NaN       NaN   \n",
      "2311                0.00000                   0.0       NaN       NaN   \n",
      "2312                0.00000                   0.0 -1.080844  0.451376   \n",
      "\n",
      "      Vertical     Bench Broad Jump     3Cone   Shuttle height(inches)  \n",
      "0     1.350756 -0.270476   1.091146 -0.125640  0.101660       0.642081  \n",
      "1     0.251577  1.984431   1.271968  0.231534  1.061457      -0.654654  \n",
      "2     0.737661       NaN   1.116621 -0.366290 -0.358682       1.337892  \n",
      "3    -0.788727  0.287740   0.903249  0.337823  1.376732       0.229751  \n",
      "4     1.747612  0.000000   1.831024 -0.004962 -0.487489       0.515069  \n",
      "...        ...       ...        ...       ...       ...            ...  \n",
      "2308       NaN       NaN        NaN       NaN       NaN            NaN  \n",
      "2309       NaN       NaN        NaN       NaN       NaN            NaN  \n",
      "2310       NaN       NaN        NaN       NaN       NaN            NaN  \n",
      "2311       NaN       NaN        NaN       NaN       NaN            NaN  \n",
      "2312 -1.467738       NaN        NaN  0.881219  1.549831      -0.904534  \n",
      "\n",
      "[2313 rows x 251 columns]\n"
     ]
    },
    {
     "name": "stderr",
     "output_type": "stream",
     "text": [
      "/Library/Frameworks/Python.framework/Versions/3.10/lib/python3.10/site-packages/sklearn/utils/extmath.py:1051: RuntimeWarning: invalid value encountered in divide\n",
      "  updated_mean = (last_sum + new_sum) / updated_sample_count\n",
      "/Library/Frameworks/Python.framework/Versions/3.10/lib/python3.10/site-packages/sklearn/utils/extmath.py:1056: RuntimeWarning: invalid value encountered in divide\n",
      "  T = new_sum / new_sample_count\n",
      "/Library/Frameworks/Python.framework/Versions/3.10/lib/python3.10/site-packages/sklearn/utils/extmath.py:1076: RuntimeWarning: invalid value encountered in divide\n",
      "  new_unnormalized_variance -= correction**2 / new_sample_count\n",
      "/Library/Frameworks/Python.framework/Versions/3.10/lib/python3.10/site-packages/sklearn/utils/extmath.py:1051: RuntimeWarning: invalid value encountered in divide\n",
      "  updated_mean = (last_sum + new_sum) / updated_sample_count\n",
      "/Library/Frameworks/Python.framework/Versions/3.10/lib/python3.10/site-packages/sklearn/utils/extmath.py:1056: RuntimeWarning: invalid value encountered in divide\n",
      "  T = new_sum / new_sample_count\n",
      "/Library/Frameworks/Python.framework/Versions/3.10/lib/python3.10/site-packages/sklearn/utils/extmath.py:1076: RuntimeWarning: invalid value encountered in divide\n",
      "  new_unnormalized_variance -= correction**2 / new_sample_count\n",
      "/Library/Frameworks/Python.framework/Versions/3.10/lib/python3.10/site-packages/sklearn/utils/extmath.py:1051: RuntimeWarning: invalid value encountered in divide\n",
      "  updated_mean = (last_sum + new_sum) / updated_sample_count\n",
      "/Library/Frameworks/Python.framework/Versions/3.10/lib/python3.10/site-packages/sklearn/utils/extmath.py:1056: RuntimeWarning: invalid value encountered in divide\n",
      "  T = new_sum / new_sample_count\n",
      "/Library/Frameworks/Python.framework/Versions/3.10/lib/python3.10/site-packages/sklearn/utils/extmath.py:1076: RuntimeWarning: invalid value encountered in divide\n",
      "  new_unnormalized_variance -= correction**2 / new_sample_count\n",
      "/Library/Frameworks/Python.framework/Versions/3.10/lib/python3.10/site-packages/sklearn/utils/extmath.py:1051: RuntimeWarning: invalid value encountered in divide\n",
      "  updated_mean = (last_sum + new_sum) / updated_sample_count\n",
      "/Library/Frameworks/Python.framework/Versions/3.10/lib/python3.10/site-packages/sklearn/utils/extmath.py:1056: RuntimeWarning: invalid value encountered in divide\n",
      "  T = new_sum / new_sample_count\n",
      "/Library/Frameworks/Python.framework/Versions/3.10/lib/python3.10/site-packages/sklearn/utils/extmath.py:1076: RuntimeWarning: invalid value encountered in divide\n",
      "  new_unnormalized_variance -= correction**2 / new_sample_count\n",
      "/Library/Frameworks/Python.framework/Versions/3.10/lib/python3.10/site-packages/sklearn/utils/extmath.py:1051: RuntimeWarning: invalid value encountered in divide\n",
      "  updated_mean = (last_sum + new_sum) / updated_sample_count\n",
      "/Library/Frameworks/Python.framework/Versions/3.10/lib/python3.10/site-packages/sklearn/utils/extmath.py:1056: RuntimeWarning: invalid value encountered in divide\n",
      "  T = new_sum / new_sample_count\n",
      "/Library/Frameworks/Python.framework/Versions/3.10/lib/python3.10/site-packages/sklearn/utils/extmath.py:1076: RuntimeWarning: invalid value encountered in divide\n",
      "  new_unnormalized_variance -= correction**2 / new_sample_count\n",
      "/Library/Frameworks/Python.framework/Versions/3.10/lib/python3.10/site-packages/sklearn/utils/extmath.py:1051: RuntimeWarning: invalid value encountered in divide\n",
      "  updated_mean = (last_sum + new_sum) / updated_sample_count\n",
      "/Library/Frameworks/Python.framework/Versions/3.10/lib/python3.10/site-packages/sklearn/utils/extmath.py:1056: RuntimeWarning: invalid value encountered in divide\n",
      "  T = new_sum / new_sample_count\n",
      "/Library/Frameworks/Python.framework/Versions/3.10/lib/python3.10/site-packages/sklearn/utils/extmath.py:1076: RuntimeWarning: invalid value encountered in divide\n",
      "  new_unnormalized_variance -= correction**2 / new_sample_count\n",
      "/Library/Frameworks/Python.framework/Versions/3.10/lib/python3.10/site-packages/sklearn/utils/extmath.py:1051: RuntimeWarning: invalid value encountered in divide\n",
      "  updated_mean = (last_sum + new_sum) / updated_sample_count\n",
      "/Library/Frameworks/Python.framework/Versions/3.10/lib/python3.10/site-packages/sklearn/utils/extmath.py:1056: RuntimeWarning: invalid value encountered in divide\n",
      "  T = new_sum / new_sample_count\n",
      "/Library/Frameworks/Python.framework/Versions/3.10/lib/python3.10/site-packages/sklearn/utils/extmath.py:1076: RuntimeWarning: invalid value encountered in divide\n",
      "  new_unnormalized_variance -= correction**2 / new_sample_count\n",
      "/var/folders/qw/m6qrt3vj0976sf8ywwy1ls_h0000gn/T/ipykernel_96228/3338624098.py:17: FutureWarning: Not prepending group keys to the result index of transform-like apply. In the future, the group keys will be included in the index, regardless of whether the applied function returns a like-indexed object.\n",
      "To preserve the previous behavior, use\n",
      "\n",
      "\t>>> .groupby(..., group_keys=False)\n",
      "\n",
      "To adopt the future behavior and silence this warning, use \n",
      "\n",
      "\t>>> .groupby(..., group_keys=True)\n",
      "  standardized_df = grouped_df.apply(standardize_numeric_group)\n"
     ]
    }
   ],
   "source": [
    "for col in df.columns[31:]:\n",
    "    try:\n",
    "        df[col] = pd.to_numeric(df[col])  # Attempt to convert column to numeric\n",
    "    except ValueError:\n",
    "        df.drop(columns=[col], inplace=True)\n",
    "grouped_df = df.groupby(['Year', 'Pos'])\n",
    "\n",
    "from sklearn.preprocessing import StandardScaler\n",
    "def standardize_numeric_group(mydata):\n",
    "    group = mydata.iloc[:, 31:]\n",
    "    numeric_cols = group.select_dtypes(include=['float64', 'int64'])  # Select numeric columns\n",
    "    scaler = StandardScaler()\n",
    "    scaled_values = scaler.fit_transform(numeric_cols)\n",
    "    group[numeric_cols.columns] = scaled_values\n",
    "    mydata.iloc[:, 31:] = group\n",
    "    return mydata\n",
    "standardized_df = grouped_df.apply(standardize_numeric_group)\n",
    "print(standardized_df)\n"
   ]
  },
  {
   "cell_type": "code",
   "execution_count": 13,
   "metadata": {},
   "outputs": [],
   "source": [
    "standardized_df.fillna(0, inplace=True)\n",
    "X = standardized_df.iloc[:,31:]\n",
    "X.fillna(X.mean(), inplace=True)\n",
    "y = standardized_df.iloc[:,0]\n",
    "X_train, X_test, y_train, y_test = train_test_split(X, y, test_size=0.2, random_state=42)"
   ]
  },
  {
   "cell_type": "code",
   "execution_count": 14,
   "metadata": {},
   "outputs": [],
   "source": [
    "standardized_df.iloc[:,0]\n",
    "standardized_df.iloc[:, 4].replace({'C': 'OL', 'G': 'OL','T':'OL', 'NT':'IDL', 'DT':'IDL', 'DL':'IDL', 'DE':'EDGE', 'OLB':'EDGE', 'ILB':'LB', 'NT':'IDL', 'CB':'DB', 'S':'DB','OT':'OL'}, inplace=True)"
   ]
  },
  {
   "cell_type": "code",
   "execution_count": 15,
   "metadata": {},
   "outputs": [],
   "source": [
    "from sklearn.metrics import classification_report\n",
    "import seaborn as sns\n",
    "import matplotlib.pyplot as plt"
   ]
  },
  {
   "cell_type": "code",
   "execution_count": 16,
   "metadata": {},
   "outputs": [
    {
     "name": "stderr",
     "output_type": "stream",
     "text": [
      "/Library/Frameworks/Python.framework/Versions/3.10/lib/python3.10/site-packages/sklearn/metrics/_classification.py:1469: UndefinedMetricWarning: Precision and F-score are ill-defined and being set to 0.0 in labels with no predicted samples. Use `zero_division` parameter to control this behavior.\n",
      "  _warn_prf(average, modifier, msg_start, len(result))\n",
      "/Library/Frameworks/Python.framework/Versions/3.10/lib/python3.10/site-packages/sklearn/metrics/_classification.py:1469: UndefinedMetricWarning: Precision and F-score are ill-defined and being set to 0.0 in labels with no predicted samples. Use `zero_division` parameter to control this behavior.\n",
      "  _warn_prf(average, modifier, msg_start, len(result))\n",
      "/Library/Frameworks/Python.framework/Versions/3.10/lib/python3.10/site-packages/sklearn/metrics/_classification.py:1469: UndefinedMetricWarning: Precision and F-score are ill-defined and being set to 0.0 in labels with no predicted samples. Use `zero_division` parameter to control this behavior.\n",
      "  _warn_prf(average, modifier, msg_start, len(result))\n",
      "/Library/Frameworks/Python.framework/Versions/3.10/lib/python3.10/site-packages/sklearn/metrics/_classification.py:1469: UndefinedMetricWarning: Precision and F-score are ill-defined and being set to 0.0 in labels with no predicted samples. Use `zero_division` parameter to control this behavior.\n",
      "  _warn_prf(average, modifier, msg_start, len(result))\n",
      "/Library/Frameworks/Python.framework/Versions/3.10/lib/python3.10/site-packages/sklearn/metrics/_classification.py:1469: UndefinedMetricWarning: Precision and F-score are ill-defined and being set to 0.0 in labels with no predicted samples. Use `zero_division` parameter to control this behavior.\n",
      "  _warn_prf(average, modifier, msg_start, len(result))\n",
      "/Library/Frameworks/Python.framework/Versions/3.10/lib/python3.10/site-packages/sklearn/metrics/_classification.py:1469: UndefinedMetricWarning: Precision and F-score are ill-defined and being set to 0.0 in labels with no predicted samples. Use `zero_division` parameter to control this behavior.\n",
      "  _warn_prf(average, modifier, msg_start, len(result))\n",
      "/Library/Frameworks/Python.framework/Versions/3.10/lib/python3.10/site-packages/sklearn/metrics/_classification.py:1469: UndefinedMetricWarning: Precision and F-score are ill-defined and being set to 0.0 in labels with no predicted samples. Use `zero_division` parameter to control this behavior.\n",
      "  _warn_prf(average, modifier, msg_start, len(result))\n",
      "/Library/Frameworks/Python.framework/Versions/3.10/lib/python3.10/site-packages/sklearn/metrics/_classification.py:1469: UndefinedMetricWarning: Precision and F-score are ill-defined and being set to 0.0 in labels with no predicted samples. Use `zero_division` parameter to control this behavior.\n",
      "  _warn_prf(average, modifier, msg_start, len(result))\n",
      "/Library/Frameworks/Python.framework/Versions/3.10/lib/python3.10/site-packages/sklearn/metrics/_classification.py:1469: UndefinedMetricWarning: Precision and F-score are ill-defined and being set to 0.0 in labels with no predicted samples. Use `zero_division` parameter to control this behavior.\n",
      "  _warn_prf(average, modifier, msg_start, len(result))\n",
      "/Library/Frameworks/Python.framework/Versions/3.10/lib/python3.10/site-packages/sklearn/metrics/_classification.py:1469: UndefinedMetricWarning: Precision and F-score are ill-defined and being set to 0.0 in labels with no predicted samples. Use `zero_division` parameter to control this behavior.\n",
      "  _warn_prf(average, modifier, msg_start, len(result))\n",
      "/Library/Frameworks/Python.framework/Versions/3.10/lib/python3.10/site-packages/sklearn/metrics/_classification.py:1469: UndefinedMetricWarning: Precision and F-score are ill-defined and being set to 0.0 in labels with no predicted samples. Use `zero_division` parameter to control this behavior.\n",
      "  _warn_prf(average, modifier, msg_start, len(result))\n",
      "/Library/Frameworks/Python.framework/Versions/3.10/lib/python3.10/site-packages/sklearn/metrics/_classification.py:1469: UndefinedMetricWarning: Precision and F-score are ill-defined and being set to 0.0 in labels with no predicted samples. Use `zero_division` parameter to control this behavior.\n",
      "  _warn_prf(average, modifier, msg_start, len(result))\n",
      "/Library/Frameworks/Python.framework/Versions/3.10/lib/python3.10/site-packages/sklearn/metrics/_classification.py:1469: UndefinedMetricWarning: Precision and F-score are ill-defined and being set to 0.0 in labels with no predicted samples. Use `zero_division` parameter to control this behavior.\n",
      "  _warn_prf(average, modifier, msg_start, len(result))\n",
      "/Library/Frameworks/Python.framework/Versions/3.10/lib/python3.10/site-packages/sklearn/metrics/_classification.py:1469: UndefinedMetricWarning: Precision and F-score are ill-defined and being set to 0.0 in labels with no predicted samples. Use `zero_division` parameter to control this behavior.\n",
      "  _warn_prf(average, modifier, msg_start, len(result))\n",
      "/Library/Frameworks/Python.framework/Versions/3.10/lib/python3.10/site-packages/sklearn/metrics/_classification.py:1469: UndefinedMetricWarning: Precision and F-score are ill-defined and being set to 0.0 in labels with no predicted samples. Use `zero_division` parameter to control this behavior.\n",
      "  _warn_prf(average, modifier, msg_start, len(result))\n"
     ]
    },
    {
     "data": {
      "text/plain": [
       "<Figure size 1000x500 with 0 Axes>"
      ]
     },
     "metadata": {},
     "output_type": "display_data"
    },
    {
     "data": {
      "text/plain": [
       "<Figure size 1000x500 with 0 Axes>"
      ]
     },
     "metadata": {},
     "output_type": "display_data"
    },
    {
     "data": {
      "text/plain": [
       "<Figure size 1000x500 with 0 Axes>"
      ]
     },
     "metadata": {},
     "output_type": "display_data"
    },
    {
     "data": {
      "text/plain": [
       "<Figure size 1000x500 with 0 Axes>"
      ]
     },
     "metadata": {},
     "output_type": "display_data"
    },
    {
     "data": {
      "text/plain": [
       "<Figure size 1000x500 with 0 Axes>"
      ]
     },
     "metadata": {},
     "output_type": "display_data"
    },
    {
     "data": {
      "text/plain": [
       "<Figure size 1000x500 with 0 Axes>"
      ]
     },
     "metadata": {},
     "output_type": "display_data"
    },
    {
     "data": {
      "text/plain": [
       "<Figure size 1000x500 with 0 Axes>"
      ]
     },
     "metadata": {},
     "output_type": "display_data"
    },
    {
     "data": {
      "text/plain": [
       "<Figure size 1000x500 with 0 Axes>"
      ]
     },
     "metadata": {},
     "output_type": "display_data"
    },
    {
     "data": {
      "text/plain": [
       "<Figure size 1000x500 with 0 Axes>"
      ]
     },
     "metadata": {},
     "output_type": "display_data"
    },
    {
     "data": {
      "text/plain": [
       "<Figure size 1000x500 with 0 Axes>"
      ]
     },
     "metadata": {},
     "output_type": "display_data"
    },
    {
     "data": {
      "text/plain": [
       "<Figure size 1000x500 with 0 Axes>"
      ]
     },
     "metadata": {},
     "output_type": "display_data"
    },
    {
     "data": {
      "text/plain": [
       "<Figure size 1000x500 with 0 Axes>"
      ]
     },
     "metadata": {},
     "output_type": "display_data"
    },
    {
     "data": {
      "text/plain": [
       "<Figure size 1000x500 with 0 Axes>"
      ]
     },
     "metadata": {},
     "output_type": "display_data"
    }
   ],
   "source": [
    "from sklearn.ensemble import GradientBoostingClassifier\n",
    "tab10_palette = sns.color_palette(\"tab10\")\n",
    "accuracy_per_group = {}\n",
    "position_groups = standardized_df.groupby(standardized_df.iloc[:, 4])\n",
    "for position, group_df in position_groups:\n",
    "    X = group_df.iloc[:, 31:]\n",
    "    y = group_df.iloc[:, 0]\n",
    "    if len(group_df) <= 1:\n",
    "        print(f\"Not enough samples for position group {position}. Skipping...\")\n",
    "        continue\n",
    "    X_train, X_test, y_train, y_test = train_test_split(X, y, test_size=0.35, random_state=42)\n",
    "    gradient_booster = GradientBoostingClassifier(learning_rate=0.1)\n",
    "    gradient_booster.fit(X_train,y_train)\n",
    "    y_pred = gradient_booster.predict(X_test)\n",
    "    target_names = [f'Round {label}' for label in sorted(y_test.unique())]\n",
    "    report = classification_report(y_test, y_pred, target_names=target_names, labels=sorted(y_test.unique()), output_dict=True)\n",
    "    data = {key: report[key] for key in report.keys() if key != 'accuracy'}\n",
    "    df = pd.DataFrame(data).transpose()\n",
    "    plt.figure(figsize=(10, 5))\n",
    "    sns.heatmap(df.iloc[:, :3], annot=True, cmap='YlGnBu', fmt=\".2f\")\n",
    "    plt.title(f'Classification Report for Gradient Boosting {position}')\n",
    "    plt.savefig(f'figs/Classification_Report_for_Gradient_Boosting_{position}.png')\n",
    "    plt.clf()\n",
    "    accuracy = accuracy_score(y_test, y_pred)\n",
    "    accuracy_per_group[position] = accuracy\n",
    "plt.bar(list(accuracy_per_group.keys()), list(accuracy_per_group.values()), color=tab10_palette[0])\n",
    "plt.xlabel('Position Group')\n",
    "plt.ylabel('Accuracy')\n",
    "plt.title('Accuracy by Position Group from Gradient Boosting')\n",
    "plt.ylim(0, 1)\n",
    "plt.tight_layout()\n",
    "plt.savefig('figs/Accuracy_by_Position_Group_from_Gradient_Boosting.png')\n",
    "plt.clf()"
   ]
  },
  {
   "cell_type": "code",
   "execution_count": 17,
   "metadata": {},
   "outputs": [
    {
     "data": {
      "text/plain": [
       "<Figure size 1000x500 with 0 Axes>"
      ]
     },
     "metadata": {},
     "output_type": "display_data"
    },
    {
     "data": {
      "text/plain": [
       "<Figure size 1000x500 with 0 Axes>"
      ]
     },
     "metadata": {},
     "output_type": "display_data"
    },
    {
     "data": {
      "text/plain": [
       "<Figure size 1000x500 with 0 Axes>"
      ]
     },
     "metadata": {},
     "output_type": "display_data"
    },
    {
     "data": {
      "text/plain": [
       "<Figure size 1000x500 with 0 Axes>"
      ]
     },
     "metadata": {},
     "output_type": "display_data"
    },
    {
     "data": {
      "text/plain": [
       "<Figure size 1000x500 with 0 Axes>"
      ]
     },
     "metadata": {},
     "output_type": "display_data"
    },
    {
     "data": {
      "text/plain": [
       "<Figure size 1000x500 with 0 Axes>"
      ]
     },
     "metadata": {},
     "output_type": "display_data"
    },
    {
     "data": {
      "text/plain": [
       "<Figure size 1000x500 with 0 Axes>"
      ]
     },
     "metadata": {},
     "output_type": "display_data"
    },
    {
     "data": {
      "text/plain": [
       "<Figure size 1000x500 with 0 Axes>"
      ]
     },
     "metadata": {},
     "output_type": "display_data"
    },
    {
     "data": {
      "text/plain": [
       "<Figure size 1000x500 with 0 Axes>"
      ]
     },
     "metadata": {},
     "output_type": "display_data"
    },
    {
     "data": {
      "text/plain": [
       "<Figure size 1000x500 with 0 Axes>"
      ]
     },
     "metadata": {},
     "output_type": "display_data"
    },
    {
     "data": {
      "text/plain": [
       "<Figure size 1000x500 with 0 Axes>"
      ]
     },
     "metadata": {},
     "output_type": "display_data"
    },
    {
     "data": {
      "text/plain": [
       "<Figure size 1000x500 with 0 Axes>"
      ]
     },
     "metadata": {},
     "output_type": "display_data"
    },
    {
     "data": {
      "text/plain": [
       "<Figure size 1000x500 with 0 Axes>"
      ]
     },
     "metadata": {},
     "output_type": "display_data"
    }
   ],
   "source": [
    "from sklearn.svm import SVC\n",
    "accuracy_per_group = {}\n",
    "position_groups = standardized_df.groupby(standardized_df.iloc[:, 4])\n",
    "for position, group_df in position_groups:\n",
    "    X = group_df.iloc[:, 31:]\n",
    "    y = group_df.iloc[:, 0]\n",
    "    if len(group_df) <= 1:\n",
    "        print(f\"Not enough samples for position group {position}. Skipping...\")\n",
    "        continue\n",
    "    X_train, X_test, y_train, y_test = train_test_split(X, y, test_size=0.35, random_state=42)\n",
    "    svm_classifier = SVC(kernel='rbf', C=1.0, gamma='scale')\n",
    "    svm_classifier.fit(X_train, y_train)\n",
    "    y_pred = svm_classifier.predict(X_test)\n",
    "    target_names = [f'Round {label}' for label in sorted(y_test.unique())]\n",
    "    data = {key: report[key] for key in report.keys() if key != 'accuracy'}\n",
    "    df = pd.DataFrame(data).transpose()\n",
    "    plt.figure(figsize=(10, 5))\n",
    "    sns.heatmap(df.iloc[:, :3], annot=True, cmap='YlGnBu', fmt=\".2f\")\n",
    "    plt.title(f'Classification Report for Support Vector {position}')\n",
    "    plt.savefig(f'figs/Classification_Report_for_Support_Vector_{position}.png')\n",
    "    plt.clf()\n",
    "    accuracy = accuracy_score(y_test, y_pred)\n",
    "    accuracy_per_group[position] = accuracy\n",
    "plt.bar(list(accuracy_per_group.keys()), list(accuracy_per_group.values()), color=tab10_palette[2])\n",
    "plt.xlabel('Position Group')\n",
    "plt.ylabel('Accuracy')\n",
    "plt.title('Accuracy by Position Group from Support Vector')\n",
    "plt.ylim(0, 1)\n",
    "plt.tight_layout()\n",
    "plt.savefig(f'figs/Accuracy_by_Position_Group_from_Support_Vector.png')\n",
    "plt.clf()"
   ]
  },
  {
   "cell_type": "code",
   "execution_count": 18,
   "metadata": {},
   "outputs": [
    {
     "name": "stdout",
     "output_type": "stream",
     "text": [
      "Epoch 1/20\n",
      "8/8 [==============================] - 0s 24ms/step - loss: 2.0838 - accuracy: 0.1260 - val_loss: 2.0519 - val_accuracy: 0.1613\n",
      "Epoch 2/20\n",
      "8/8 [==============================] - 0s 2ms/step - loss: 2.0485 - accuracy: 0.1341 - val_loss: 2.0465 - val_accuracy: 0.1774\n",
      "Epoch 3/20\n",
      "8/8 [==============================] - 0s 2ms/step - loss: 2.0416 - accuracy: 0.1585 - val_loss: 2.0402 - val_accuracy: 0.1774\n",
      "Epoch 4/20\n",
      "8/8 [==============================] - 0s 2ms/step - loss: 2.0168 - accuracy: 0.1667 - val_loss: 2.0355 - val_accuracy: 0.1774\n",
      "Epoch 5/20\n",
      "8/8 [==============================] - 0s 2ms/step - loss: 2.0057 - accuracy: 0.1667 - val_loss: 2.0294 - val_accuracy: 0.1935\n",
      "Epoch 6/20\n",
      "8/8 [==============================] - 0s 2ms/step - loss: 1.9890 - accuracy: 0.1748 - val_loss: 2.0266 - val_accuracy: 0.1613\n",
      "Epoch 7/20\n",
      "8/8 [==============================] - 0s 2ms/step - loss: 1.9775 - accuracy: 0.1870 - val_loss: 2.0230 - val_accuracy: 0.1452\n",
      "Epoch 8/20\n",
      "8/8 [==============================] - 0s 2ms/step - loss: 1.9301 - accuracy: 0.2602 - val_loss: 2.0171 - val_accuracy: 0.0968\n",
      "Epoch 9/20\n",
      "8/8 [==============================] - 0s 2ms/step - loss: 1.9267 - accuracy: 0.2480 - val_loss: 2.0093 - val_accuracy: 0.1290\n",
      "Epoch 10/20\n",
      "8/8 [==============================] - 0s 2ms/step - loss: 1.8901 - accuracy: 0.2480 - val_loss: 2.0046 - val_accuracy: 0.1613\n",
      "Epoch 11/20\n",
      "8/8 [==============================] - 0s 2ms/step - loss: 1.8889 - accuracy: 0.2195 - val_loss: 1.9980 - val_accuracy: 0.1935\n",
      "Epoch 12/20\n",
      "8/8 [==============================] - 0s 2ms/step - loss: 1.8459 - accuracy: 0.2480 - val_loss: 1.9987 - val_accuracy: 0.1290\n",
      "Epoch 13/20\n",
      "8/8 [==============================] - 0s 2ms/step - loss: 1.8233 - accuracy: 0.2846 - val_loss: 1.9947 - val_accuracy: 0.1290\n",
      "Epoch 14/20\n",
      "8/8 [==============================] - 0s 2ms/step - loss: 1.7957 - accuracy: 0.2805 - val_loss: 1.9931 - val_accuracy: 0.1452\n",
      "Epoch 15/20\n",
      "8/8 [==============================] - 0s 2ms/step - loss: 1.7650 - accuracy: 0.3008 - val_loss: 1.9937 - val_accuracy: 0.1452\n",
      "Epoch 16/20\n",
      "8/8 [==============================] - 0s 2ms/step - loss: 1.7400 - accuracy: 0.3618 - val_loss: 2.0089 - val_accuracy: 0.1290\n",
      "Epoch 17/20\n",
      "8/8 [==============================] - 0s 2ms/step - loss: 1.7305 - accuracy: 0.3049 - val_loss: 2.0219 - val_accuracy: 0.1129\n",
      "Epoch 18/20\n",
      "8/8 [==============================] - 0s 2ms/step - loss: 1.6768 - accuracy: 0.3252 - val_loss: 2.0519 - val_accuracy: 0.1129\n",
      "Epoch 19/20\n",
      "8/8 [==============================] - 0s 2ms/step - loss: 1.6704 - accuracy: 0.3293 - val_loss: 2.0642 - val_accuracy: 0.1290\n",
      "Epoch 20/20\n",
      "8/8 [==============================] - 0s 2ms/step - loss: 1.6443 - accuracy: 0.3496 - val_loss: 2.0874 - val_accuracy: 0.1452\n",
      "6/6 [==============================] - 0s 526us/step\n",
      "Epoch 1/20\n",
      "5/5 [==============================] - 0s 10ms/step - loss: 2.1112 - accuracy: 0.1929 - val_loss: 2.0770 - val_accuracy: 0.2286\n",
      "Epoch 2/20\n",
      "1/5 [=====>........................] - ETA: 0s - loss: 2.1636 - accuracy: 0.1875"
     ]
    },
    {
     "name": "stderr",
     "output_type": "stream",
     "text": [
      "/Library/Frameworks/Python.framework/Versions/3.10/lib/python3.10/site-packages/sklearn/metrics/_classification.py:1469: UndefinedMetricWarning: Precision and F-score are ill-defined and being set to 0.0 in labels with no predicted samples. Use `zero_division` parameter to control this behavior.\n",
      "  _warn_prf(average, modifier, msg_start, len(result))\n",
      "/Library/Frameworks/Python.framework/Versions/3.10/lib/python3.10/site-packages/sklearn/metrics/_classification.py:1469: UndefinedMetricWarning: Precision and F-score are ill-defined and being set to 0.0 in labels with no predicted samples. Use `zero_division` parameter to control this behavior.\n",
      "  _warn_prf(average, modifier, msg_start, len(result))\n",
      "/Library/Frameworks/Python.framework/Versions/3.10/lib/python3.10/site-packages/sklearn/metrics/_classification.py:1469: UndefinedMetricWarning: Precision and F-score are ill-defined and being set to 0.0 in labels with no predicted samples. Use `zero_division` parameter to control this behavior.\n",
      "  _warn_prf(average, modifier, msg_start, len(result))\n"
     ]
    },
    {
     "name": "stdout",
     "output_type": "stream",
     "text": [
      "5/5 [==============================] - 0s 4ms/step - loss: 2.0482 - accuracy: 0.1571 - val_loss: 2.0570 - val_accuracy: 0.2286\n",
      "Epoch 3/20\n",
      "5/5 [==============================] - 0s 4ms/step - loss: 1.9583 - accuracy: 0.1571 - val_loss: 2.0349 - val_accuracy: 0.2000\n",
      "Epoch 4/20\n",
      "5/5 [==============================] - 0s 4ms/step - loss: 1.9449 - accuracy: 0.1857 - val_loss: 2.0306 - val_accuracy: 0.2000\n",
      "Epoch 5/20\n",
      "5/5 [==============================] - 0s 4ms/step - loss: 1.8578 - accuracy: 0.2357 - val_loss: 2.0266 - val_accuracy: 0.2286\n",
      "Epoch 6/20\n",
      "5/5 [==============================] - 0s 4ms/step - loss: 1.8427 - accuracy: 0.2286 - val_loss: 2.0335 - val_accuracy: 0.2000\n",
      "Epoch 7/20\n",
      "5/5 [==============================] - 0s 4ms/step - loss: 1.7750 - accuracy: 0.3357 - val_loss: 2.0482 - val_accuracy: 0.2000\n",
      "Epoch 8/20\n",
      "5/5 [==============================] - 0s 4ms/step - loss: 1.7663 - accuracy: 0.3500 - val_loss: 2.0622 - val_accuracy: 0.2000\n",
      "Epoch 9/20\n",
      "5/5 [==============================] - 0s 4ms/step - loss: 1.7426 - accuracy: 0.3500 - val_loss: 2.0772 - val_accuracy: 0.1714\n",
      "Epoch 10/20\n",
      "5/5 [==============================] - 0s 4ms/step - loss: 1.7147 - accuracy: 0.3429 - val_loss: 2.0953 - val_accuracy: 0.1429\n",
      "Epoch 11/20\n",
      "5/5 [==============================] - 0s 4ms/step - loss: 1.6843 - accuracy: 0.3286 - val_loss: 2.1014 - val_accuracy: 0.1429\n",
      "Epoch 12/20\n",
      "5/5 [==============================] - 0s 4ms/step - loss: 1.6485 - accuracy: 0.3357 - val_loss: 2.1196 - val_accuracy: 0.1429\n",
      "Epoch 13/20\n",
      "5/5 [==============================] - 0s 4ms/step - loss: 1.6088 - accuracy: 0.3929 - val_loss: 2.1571 - val_accuracy: 0.1714\n",
      "Epoch 14/20\n",
      "5/5 [==============================] - 0s 4ms/step - loss: 1.5909 - accuracy: 0.3714 - val_loss: 2.1977 - val_accuracy: 0.1714\n",
      "Epoch 15/20\n",
      "5/5 [==============================] - 0s 4ms/step - loss: 1.5595 - accuracy: 0.4071 - val_loss: 2.2245 - val_accuracy: 0.1714\n",
      "Epoch 16/20\n",
      "5/5 [==============================] - 0s 4ms/step - loss: 1.5198 - accuracy: 0.4214 - val_loss: 2.2432 - val_accuracy: 0.2000\n",
      "Epoch 17/20\n",
      "5/5 [==============================] - 0s 4ms/step - loss: 1.5164 - accuracy: 0.4571 - val_loss: 2.2888 - val_accuracy: 0.1714\n",
      "Epoch 18/20\n",
      "5/5 [==============================] - 0s 4ms/step - loss: 1.4752 - accuracy: 0.4357 - val_loss: 2.3218 - val_accuracy: 0.1714\n",
      "Epoch 19/20\n",
      "5/5 [==============================] - 0s 4ms/step - loss: 1.4430 - accuracy: 0.4429 - val_loss: 2.3720 - val_accuracy: 0.1714\n",
      "Epoch 20/20\n",
      "5/5 [==============================] - 0s 4ms/step - loss: 1.4086 - accuracy: 0.4429 - val_loss: 2.4262 - val_accuracy: 0.1429\n",
      "3/3 [==============================] - 0s 661us/step\n",
      "Epoch 1/20\n",
      "1/1 [==============================] - 0s 33ms/step - loss: 2.3357 - accuracy: 0.1667 - val_loss: 2.1912 - val_accuracy: 0.0000e+00\n",
      "Epoch 2/20\n",
      "1/1 [==============================] - 0s 15ms/step - loss: 1.9609 - accuracy: 0.0000e+00 - val_loss: 2.1492 - val_accuracy: 0.0000e+00\n",
      "Epoch 3/20\n"
     ]
    },
    {
     "name": "stderr",
     "output_type": "stream",
     "text": [
      "/Library/Frameworks/Python.framework/Versions/3.10/lib/python3.10/site-packages/sklearn/metrics/_classification.py:1469: UndefinedMetricWarning: Precision and F-score are ill-defined and being set to 0.0 in labels with no predicted samples. Use `zero_division` parameter to control this behavior.\n",
      "  _warn_prf(average, modifier, msg_start, len(result))\n",
      "/Library/Frameworks/Python.framework/Versions/3.10/lib/python3.10/site-packages/sklearn/metrics/_classification.py:1469: UndefinedMetricWarning: Precision and F-score are ill-defined and being set to 0.0 in labels with no predicted samples. Use `zero_division` parameter to control this behavior.\n",
      "  _warn_prf(average, modifier, msg_start, len(result))\n",
      "/Library/Frameworks/Python.framework/Versions/3.10/lib/python3.10/site-packages/sklearn/metrics/_classification.py:1469: UndefinedMetricWarning: Precision and F-score are ill-defined and being set to 0.0 in labels with no predicted samples. Use `zero_division` parameter to control this behavior.\n",
      "  _warn_prf(average, modifier, msg_start, len(result))\n"
     ]
    },
    {
     "name": "stdout",
     "output_type": "stream",
     "text": [
      "1/1 [==============================] - 0s 15ms/step - loss: 1.9261 - accuracy: 0.1667 - val_loss: 2.1042 - val_accuracy: 0.5000\n",
      "Epoch 4/20\n",
      "1/1 [==============================] - 0s 14ms/step - loss: 1.5719 - accuracy: 0.3333 - val_loss: 2.0566 - val_accuracy: 0.5000\n",
      "Epoch 5/20\n",
      "1/1 [==============================] - 0s 14ms/step - loss: 1.6701 - accuracy: 0.1667 - val_loss: 2.0084 - val_accuracy: 0.5000\n",
      "Epoch 6/20\n",
      "1/1 [==============================] - 0s 15ms/step - loss: 1.4930 - accuracy: 0.5000 - val_loss: 1.9626 - val_accuracy: 0.5000\n",
      "Epoch 7/20\n",
      "1/1 [==============================] - 0s 15ms/step - loss: 1.4779 - accuracy: 0.3333 - val_loss: 1.9219 - val_accuracy: 0.5000\n",
      "Epoch 8/20\n",
      "1/1 [==============================] - 0s 14ms/step - loss: 1.3155 - accuracy: 0.3333 - val_loss: 1.8947 - val_accuracy: 0.5000\n",
      "Epoch 9/20\n",
      "1/1 [==============================] - 0s 12ms/step - loss: 1.4314 - accuracy: 0.3333 - val_loss: 1.8750 - val_accuracy: 0.5000\n",
      "Epoch 10/20\n",
      "1/1 [==============================] - 0s 13ms/step - loss: 1.2688 - accuracy: 0.5000 - val_loss: 1.8624 - val_accuracy: 0.5000\n",
      "Epoch 11/20\n",
      "1/1 [==============================] - 0s 13ms/step - loss: 1.3196 - accuracy: 0.5000 - val_loss: 1.8467 - val_accuracy: 0.5000\n",
      "Epoch 12/20\n",
      "1/1 [==============================] - 0s 12ms/step - loss: 1.2204 - accuracy: 0.5000 - val_loss: 1.8355 - val_accuracy: 0.5000\n",
      "Epoch 13/20\n",
      "1/1 [==============================] - 0s 13ms/step - loss: 1.2104 - accuracy: 0.5000 - val_loss: 1.8228 - val_accuracy: 0.5000\n",
      "Epoch 14/20\n",
      "1/1 [==============================] - 0s 13ms/step - loss: 1.1350 - accuracy: 0.3333 - val_loss: 1.8114 - val_accuracy: 0.5000\n",
      "Epoch 15/20\n",
      "1/1 [==============================] - 0s 14ms/step - loss: 1.1151 - accuracy: 0.5000 - val_loss: 1.8060 - val_accuracy: 0.5000\n",
      "Epoch 16/20\n",
      "1/1 [==============================] - 0s 12ms/step - loss: 1.1012 - accuracy: 0.5000 - val_loss: 1.8051 - val_accuracy: 0.5000\n",
      "Epoch 17/20\n",
      "1/1 [==============================] - 0s 12ms/step - loss: 1.2771 - accuracy: 0.5000 - val_loss: 1.7956 - val_accuracy: 0.5000\n",
      "Epoch 18/20\n",
      "1/1 [==============================] - 0s 12ms/step - loss: 1.0632 - accuracy: 0.5000 - val_loss: 1.7804 - val_accuracy: 0.5000\n",
      "Epoch 19/20\n",
      "1/1 [==============================] - 0s 13ms/step - loss: 1.1597 - accuracy: 0.5000 - val_loss: 1.7671 - val_accuracy: 0.5000\n",
      "Epoch 20/20\n",
      "1/1 [==============================] - 0s 13ms/step - loss: 1.0518 - accuracy: 0.5000 - val_loss: 1.7548 - val_accuracy: 0.5000\n",
      "1/1 [==============================] - 0s 9ms/step\n",
      "Epoch 1/20\n",
      "4/4 [==============================] - 0s 12ms/step - loss: 2.8305 - accuracy: 0.1538 - val_loss: 3.1397 - val_accuracy: 0.1154\n",
      "Epoch 2/20\n",
      "4/4 [==============================] - 0s 5ms/step - loss: 2.4043 - accuracy: 0.1827 - val_loss: 2.6545 - val_accuracy: 0.0385\n",
      "Epoch 3/20\n",
      "4/4 [==============================] - 0s 5ms/step - loss: 2.0744 - accuracy: 0.1731 - val_loss: 2.4212 - val_accuracy: 0.0385\n"
     ]
    },
    {
     "name": "stderr",
     "output_type": "stream",
     "text": [
      "/Library/Frameworks/Python.framework/Versions/3.10/lib/python3.10/site-packages/sklearn/metrics/_classification.py:1469: UndefinedMetricWarning: Precision and F-score are ill-defined and being set to 0.0 in labels with no predicted samples. Use `zero_division` parameter to control this behavior.\n",
      "  _warn_prf(average, modifier, msg_start, len(result))\n",
      "/Library/Frameworks/Python.framework/Versions/3.10/lib/python3.10/site-packages/sklearn/metrics/_classification.py:1469: UndefinedMetricWarning: Precision and F-score are ill-defined and being set to 0.0 in labels with no predicted samples. Use `zero_division` parameter to control this behavior.\n",
      "  _warn_prf(average, modifier, msg_start, len(result))\n",
      "/Library/Frameworks/Python.framework/Versions/3.10/lib/python3.10/site-packages/sklearn/metrics/_classification.py:1469: UndefinedMetricWarning: Precision and F-score are ill-defined and being set to 0.0 in labels with no predicted samples. Use `zero_division` parameter to control this behavior.\n",
      "  _warn_prf(average, modifier, msg_start, len(result))\n"
     ]
    },
    {
     "name": "stdout",
     "output_type": "stream",
     "text": [
      "Epoch 4/20\n",
      "4/4 [==============================] - 0s 5ms/step - loss: 2.0101 - accuracy: 0.1923 - val_loss: 2.3185 - val_accuracy: 0.0385\n",
      "Epoch 5/20\n",
      "4/4 [==============================] - 0s 5ms/step - loss: 1.9096 - accuracy: 0.1923 - val_loss: 2.2893 - val_accuracy: 0.0385\n",
      "Epoch 6/20\n",
      "4/4 [==============================] - 0s 6ms/step - loss: 1.8844 - accuracy: 0.2692 - val_loss: 2.2706 - val_accuracy: 0.0769\n",
      "Epoch 7/20\n",
      "4/4 [==============================] - 0s 5ms/step - loss: 1.8361 - accuracy: 0.2885 - val_loss: 2.2688 - val_accuracy: 0.0385\n",
      "Epoch 8/20\n",
      "4/4 [==============================] - 0s 5ms/step - loss: 1.8088 - accuracy: 0.2692 - val_loss: 2.2744 - val_accuracy: 0.0385\n",
      "Epoch 9/20\n",
      "4/4 [==============================] - 0s 5ms/step - loss: 1.7832 - accuracy: 0.2885 - val_loss: 2.2828 - val_accuracy: 0.1154\n",
      "Epoch 10/20\n",
      "4/4 [==============================] - 0s 4ms/step - loss: 1.7158 - accuracy: 0.3654 - val_loss: 2.2925 - val_accuracy: 0.1154\n",
      "Epoch 11/20\n",
      "4/4 [==============================] - 0s 4ms/step - loss: 1.7232 - accuracy: 0.2885 - val_loss: 2.3079 - val_accuracy: 0.1154\n",
      "Epoch 12/20\n",
      "4/4 [==============================] - 0s 5ms/step - loss: 1.6882 - accuracy: 0.3558 - val_loss: 2.3284 - val_accuracy: 0.1154\n",
      "Epoch 13/20\n",
      "4/4 [==============================] - 0s 4ms/step - loss: 1.6868 - accuracy: 0.3462 - val_loss: 2.3614 - val_accuracy: 0.1154\n",
      "Epoch 14/20\n",
      "4/4 [==============================] - 0s 4ms/step - loss: 1.6721 - accuracy: 0.3846 - val_loss: 2.3998 - val_accuracy: 0.1154\n",
      "Epoch 15/20\n",
      "4/4 [==============================] - 0s 4ms/step - loss: 1.6274 - accuracy: 0.4135 - val_loss: 2.4331 - val_accuracy: 0.1154\n",
      "Epoch 16/20\n",
      "4/4 [==============================] - 0s 4ms/step - loss: 1.6193 - accuracy: 0.3750 - val_loss: 2.4699 - val_accuracy: 0.1154\n",
      "Epoch 17/20\n",
      "4/4 [==============================] - 0s 4ms/step - loss: 1.6166 - accuracy: 0.4135 - val_loss: 2.5076 - val_accuracy: 0.1154\n",
      "Epoch 18/20\n",
      "4/4 [==============================] - 0s 5ms/step - loss: 1.5890 - accuracy: 0.3750 - val_loss: 2.5530 - val_accuracy: 0.1154\n",
      "Epoch 19/20\n",
      "4/4 [==============================] - 0s 5ms/step - loss: 1.6000 - accuracy: 0.3846 - val_loss: 2.5963 - val_accuracy: 0.1154\n",
      "Epoch 20/20\n",
      "4/4 [==============================] - 0s 4ms/step - loss: 1.5353 - accuracy: 0.4135 - val_loss: 2.6285 - val_accuracy: 0.0769\n",
      "3/3 [==============================] - 0s 690us/step\n",
      "Epoch 1/20\n",
      "1/1 [==============================] - 0s 34ms/step - loss: 2.3868 - accuracy: 0.0000e+00 - val_loss: 3.1555 - val_accuracy: 0.0000e+00\n",
      "Epoch 2/20\n",
      "1/1 [==============================] - 0s 15ms/step - loss: 2.3402 - accuracy: 0.0000e+00 - val_loss: 3.1119 - val_accuracy: 0.0000e+00\n",
      "Epoch 3/20\n",
      "1/1 [==============================] - ETA: 0s - loss: 2.2034 - accuracy: 0.0000e+00"
     ]
    },
    {
     "name": "stderr",
     "output_type": "stream",
     "text": [
      "/Library/Frameworks/Python.framework/Versions/3.10/lib/python3.10/site-packages/sklearn/metrics/_classification.py:1469: UndefinedMetricWarning: Precision and F-score are ill-defined and being set to 0.0 in labels with no predicted samples. Use `zero_division` parameter to control this behavior.\n",
      "  _warn_prf(average, modifier, msg_start, len(result))\n",
      "/Library/Frameworks/Python.framework/Versions/3.10/lib/python3.10/site-packages/sklearn/metrics/_classification.py:1469: UndefinedMetricWarning: Precision and F-score are ill-defined and being set to 0.0 in labels with no predicted samples. Use `zero_division` parameter to control this behavior.\n",
      "  _warn_prf(average, modifier, msg_start, len(result))\n",
      "/Library/Frameworks/Python.framework/Versions/3.10/lib/python3.10/site-packages/sklearn/metrics/_classification.py:1469: UndefinedMetricWarning: Precision and F-score are ill-defined and being set to 0.0 in labels with no predicted samples. Use `zero_division` parameter to control this behavior.\n",
      "  _warn_prf(average, modifier, msg_start, len(result))\n"
     ]
    },
    {
     "name": "stdout",
     "output_type": "stream",
     "text": [
      "1/1 [==============================] - 0s 14ms/step - loss: 2.2034 - accuracy: 0.0000e+00 - val_loss: 3.0334 - val_accuracy: 0.0000e+00\n",
      "Epoch 4/20\n",
      "1/1 [==============================] - 0s 14ms/step - loss: 1.9690 - accuracy: 0.0000e+00 - val_loss: 2.9527 - val_accuracy: 0.0000e+00\n",
      "Epoch 5/20\n",
      "1/1 [==============================] - 0s 13ms/step - loss: 2.0117 - accuracy: 0.0000e+00 - val_loss: 2.8854 - val_accuracy: 0.0000e+00\n",
      "Epoch 6/20\n",
      "1/1 [==============================] - 0s 16ms/step - loss: 1.8153 - accuracy: 0.0000e+00 - val_loss: 2.8307 - val_accuracy: 0.0000e+00\n",
      "Epoch 7/20\n",
      "1/1 [==============================] - 0s 16ms/step - loss: 1.8431 - accuracy: 0.0000e+00 - val_loss: 2.7587 - val_accuracy: 0.0000e+00\n",
      "Epoch 8/20\n",
      "1/1 [==============================] - 0s 13ms/step - loss: 1.7743 - accuracy: 0.2857 - val_loss: 2.7000 - val_accuracy: 0.0000e+00\n",
      "Epoch 9/20\n",
      "1/1 [==============================] - 0s 13ms/step - loss: 1.6421 - accuracy: 0.2857 - val_loss: 2.6584 - val_accuracy: 0.0000e+00\n",
      "Epoch 10/20\n",
      "1/1 [==============================] - 0s 12ms/step - loss: 1.6003 - accuracy: 0.1429 - val_loss: 2.6096 - val_accuracy: 0.0000e+00\n",
      "Epoch 11/20\n",
      "1/1 [==============================] - 0s 13ms/step - loss: 1.6754 - accuracy: 0.0000e+00 - val_loss: 2.5504 - val_accuracy: 0.0000e+00\n",
      "Epoch 12/20\n",
      "1/1 [==============================] - 0s 12ms/step - loss: 1.6071 - accuracy: 0.2857 - val_loss: 2.4912 - val_accuracy: 0.0000e+00\n",
      "Epoch 13/20\n",
      "1/1 [==============================] - 0s 12ms/step - loss: 1.4805 - accuracy: 0.4286 - val_loss: 2.4539 - val_accuracy: 0.0000e+00\n",
      "Epoch 14/20\n",
      "1/1 [==============================] - 0s 12ms/step - loss: 1.4601 - accuracy: 0.4286 - val_loss: 2.4206 - val_accuracy: 0.0000e+00\n",
      "Epoch 15/20\n",
      "1/1 [==============================] - 0s 13ms/step - loss: 1.5153 - accuracy: 0.4286 - val_loss: 2.3891 - val_accuracy: 0.0000e+00\n",
      "Epoch 16/20\n",
      "1/1 [==============================] - 0s 13ms/step - loss: 1.3732 - accuracy: 0.4286 - val_loss: 2.3651 - val_accuracy: 0.0000e+00\n",
      "Epoch 17/20\n",
      "1/1 [==============================] - 0s 12ms/step - loss: 1.3338 - accuracy: 0.7143 - val_loss: 2.3519 - val_accuracy: 0.0000e+00\n",
      "Epoch 18/20\n",
      "1/1 [==============================] - 0s 12ms/step - loss: 1.2262 - accuracy: 0.5714 - val_loss: 2.3456 - val_accuracy: 0.0000e+00\n",
      "Epoch 19/20\n",
      "1/1 [==============================] - 0s 13ms/step - loss: 1.1994 - accuracy: 0.5714 - val_loss: 2.3432 - val_accuracy: 0.0000e+00\n",
      "Epoch 20/20\n",
      "1/1 [==============================] - 0s 13ms/step - loss: 1.2290 - accuracy: 0.5714 - val_loss: 2.3510 - val_accuracy: 0.0000e+00\n",
      "1/1 [==============================] - 0s 9ms/step\n",
      "Epoch 1/20\n",
      "4/4 [==============================] - 0s 12ms/step - loss: 2.2521 - accuracy: 0.1696 - val_loss: 2.1210 - val_accuracy: 0.1379\n",
      "Epoch 2/20\n",
      "4/4 [==============================] - 0s 5ms/step - loss: 2.2391 - accuracy: 0.1875 - val_loss: 2.1090 - val_accuracy: 0.1379\n",
      "Epoch 3/20\n",
      "1/4 [======>.......................] - ETA: 0s - loss: 1.9548 - accuracy: 0.1875"
     ]
    },
    {
     "name": "stderr",
     "output_type": "stream",
     "text": [
      "/Library/Frameworks/Python.framework/Versions/3.10/lib/python3.10/site-packages/sklearn/metrics/_classification.py:1469: UndefinedMetricWarning: Precision and F-score are ill-defined and being set to 0.0 in labels with no predicted samples. Use `zero_division` parameter to control this behavior.\n",
      "  _warn_prf(average, modifier, msg_start, len(result))\n",
      "/Library/Frameworks/Python.framework/Versions/3.10/lib/python3.10/site-packages/sklearn/metrics/_classification.py:1469: UndefinedMetricWarning: Precision and F-score are ill-defined and being set to 0.0 in labels with no predicted samples. Use `zero_division` parameter to control this behavior.\n",
      "  _warn_prf(average, modifier, msg_start, len(result))\n",
      "/Library/Frameworks/Python.framework/Versions/3.10/lib/python3.10/site-packages/sklearn/metrics/_classification.py:1469: UndefinedMetricWarning: Precision and F-score are ill-defined and being set to 0.0 in labels with no predicted samples. Use `zero_division` parameter to control this behavior.\n",
      "  _warn_prf(average, modifier, msg_start, len(result))\n"
     ]
    },
    {
     "name": "stdout",
     "output_type": "stream",
     "text": [
      "4/4 [==============================] - 0s 5ms/step - loss: 2.1069 - accuracy: 0.2411 - val_loss: 2.0858 - val_accuracy: 0.1379\n",
      "Epoch 4/20\n",
      "4/4 [==============================] - 0s 5ms/step - loss: 1.9875 - accuracy: 0.2054 - val_loss: 2.0633 - val_accuracy: 0.1724\n",
      "Epoch 5/20\n",
      "4/4 [==============================] - 0s 5ms/step - loss: 1.8318 - accuracy: 0.2768 - val_loss: 2.0529 - val_accuracy: 0.1379\n",
      "Epoch 6/20\n",
      "4/4 [==============================] - 0s 5ms/step - loss: 1.8292 - accuracy: 0.2321 - val_loss: 2.0434 - val_accuracy: 0.1379\n",
      "Epoch 7/20\n",
      "4/4 [==============================] - 0s 5ms/step - loss: 1.7708 - accuracy: 0.3036 - val_loss: 2.0387 - val_accuracy: 0.1034\n",
      "Epoch 8/20\n",
      "4/4 [==============================] - 0s 5ms/step - loss: 1.6978 - accuracy: 0.3304 - val_loss: 2.0355 - val_accuracy: 0.1034\n",
      "Epoch 9/20\n",
      "4/4 [==============================] - 0s 5ms/step - loss: 1.6764 - accuracy: 0.3661 - val_loss: 2.0313 - val_accuracy: 0.1379\n",
      "Epoch 10/20\n",
      "4/4 [==============================] - 0s 5ms/step - loss: 1.6009 - accuracy: 0.3750 - val_loss: 2.0255 - val_accuracy: 0.1034\n",
      "Epoch 11/20\n",
      "4/4 [==============================] - 0s 4ms/step - loss: 1.6217 - accuracy: 0.3571 - val_loss: 2.0229 - val_accuracy: 0.1379\n",
      "Epoch 12/20\n",
      "4/4 [==============================] - 0s 4ms/step - loss: 1.5797 - accuracy: 0.3929 - val_loss: 2.0221 - val_accuracy: 0.1724\n",
      "Epoch 13/20\n",
      "4/4 [==============================] - 0s 5ms/step - loss: 1.5450 - accuracy: 0.3839 - val_loss: 2.0163 - val_accuracy: 0.1724\n",
      "Epoch 14/20\n",
      "4/4 [==============================] - 0s 4ms/step - loss: 1.4709 - accuracy: 0.3929 - val_loss: 2.0113 - val_accuracy: 0.2069\n",
      "Epoch 15/20\n",
      "4/4 [==============================] - 0s 4ms/step - loss: 1.5184 - accuracy: 0.4018 - val_loss: 2.0104 - val_accuracy: 0.2414\n",
      "Epoch 16/20\n",
      "4/4 [==============================] - 0s 5ms/step - loss: 1.4427 - accuracy: 0.4464 - val_loss: 1.9945 - val_accuracy: 0.2069\n",
      "Epoch 17/20\n",
      "4/4 [==============================] - 0s 4ms/step - loss: 1.4257 - accuracy: 0.4196 - val_loss: 1.9893 - val_accuracy: 0.2069\n",
      "Epoch 18/20\n",
      "4/4 [==============================] - 0s 4ms/step - loss: 1.3723 - accuracy: 0.4554 - val_loss: 1.9922 - val_accuracy: 0.2069\n",
      "Epoch 19/20\n",
      "4/4 [==============================] - 0s 4ms/step - loss: 1.3805 - accuracy: 0.4286 - val_loss: 1.9914 - val_accuracy: 0.2069\n",
      "Epoch 20/20\n",
      "4/4 [==============================] - 0s 5ms/step - loss: 1.3596 - accuracy: 0.4821 - val_loss: 1.9922 - val_accuracy: 0.2414\n",
      "3/3 [==============================] - 0s 674us/step\n",
      "Epoch 1/20\n",
      "1/1 [==============================] - 0s 35ms/step - loss: 1.6886 - accuracy: 0.5000 - val_loss: 1.9949 - val_accuracy: 0.0000e+00\n",
      "Epoch 2/20\n",
      "1/1 [==============================] - 0s 15ms/step - loss: 1.7717 - accuracy: 0.5000 - val_loss: 1.9750 - val_accuracy: 0.0000e+00\n",
      "Epoch 3/20\n",
      "1/1 [==============================] - ETA: 0s - loss: 1.7660 - accuracy: 0.5000"
     ]
    },
    {
     "name": "stderr",
     "output_type": "stream",
     "text": [
      "/Library/Frameworks/Python.framework/Versions/3.10/lib/python3.10/site-packages/sklearn/metrics/_classification.py:1469: UndefinedMetricWarning: Precision and F-score are ill-defined and being set to 0.0 in labels with no predicted samples. Use `zero_division` parameter to control this behavior.\n",
      "  _warn_prf(average, modifier, msg_start, len(result))\n",
      "/Library/Frameworks/Python.framework/Versions/3.10/lib/python3.10/site-packages/sklearn/metrics/_classification.py:1469: UndefinedMetricWarning: Precision and F-score are ill-defined and being set to 0.0 in labels with no predicted samples. Use `zero_division` parameter to control this behavior.\n",
      "  _warn_prf(average, modifier, msg_start, len(result))\n",
      "/Library/Frameworks/Python.framework/Versions/3.10/lib/python3.10/site-packages/sklearn/metrics/_classification.py:1469: UndefinedMetricWarning: Precision and F-score are ill-defined and being set to 0.0 in labels with no predicted samples. Use `zero_division` parameter to control this behavior.\n",
      "  _warn_prf(average, modifier, msg_start, len(result))\n"
     ]
    },
    {
     "name": "stdout",
     "output_type": "stream",
     "text": [
      "1/1 [==============================] - 0s 15ms/step - loss: 1.7660 - accuracy: 0.5000 - val_loss: 1.9464 - val_accuracy: 0.0000e+00\n",
      "Epoch 4/20\n",
      "1/1 [==============================] - 0s 15ms/step - loss: 1.7172 - accuracy: 0.5000 - val_loss: 1.9139 - val_accuracy: 0.0000e+00\n",
      "Epoch 5/20\n",
      "1/1 [==============================] - 0s 16ms/step - loss: 1.6671 - accuracy: 0.5000 - val_loss: 1.8780 - val_accuracy: 0.0000e+00\n",
      "Epoch 6/20\n",
      "1/1 [==============================] - 0s 15ms/step - loss: 1.6339 - accuracy: 0.5000 - val_loss: 1.8385 - val_accuracy: 0.0000e+00\n",
      "Epoch 7/20\n",
      "1/1 [==============================] - 0s 16ms/step - loss: 1.6513 - accuracy: 0.5000 - val_loss: 1.7974 - val_accuracy: 0.0000e+00\n",
      "Epoch 8/20\n",
      "1/1 [==============================] - 0s 13ms/step - loss: 1.5768 - accuracy: 0.5000 - val_loss: 1.7552 - val_accuracy: 0.0000e+00\n",
      "Epoch 9/20\n",
      "1/1 [==============================] - 0s 12ms/step - loss: 1.5907 - accuracy: 0.5000 - val_loss: 1.7163 - val_accuracy: 0.0000e+00\n",
      "Epoch 10/20\n",
      "1/1 [==============================] - 0s 12ms/step - loss: 1.5963 - accuracy: 0.5000 - val_loss: 1.6813 - val_accuracy: 0.0000e+00\n",
      "Epoch 11/20\n",
      "1/1 [==============================] - 0s 12ms/step - loss: 1.5178 - accuracy: 0.5000 - val_loss: 1.6527 - val_accuracy: 0.0000e+00\n",
      "Epoch 12/20\n",
      "1/1 [==============================] - 0s 13ms/step - loss: 1.5231 - accuracy: 0.5000 - val_loss: 1.6231 - val_accuracy: 0.0000e+00\n",
      "Epoch 13/20\n",
      "1/1 [==============================] - 0s 12ms/step - loss: 1.4685 - accuracy: 0.5000 - val_loss: 1.5977 - val_accuracy: 0.0000e+00\n",
      "Epoch 14/20\n",
      "1/1 [==============================] - 0s 12ms/step - loss: 1.5092 - accuracy: 0.5000 - val_loss: 1.5834 - val_accuracy: 0.0000e+00\n",
      "Epoch 15/20\n",
      "1/1 [==============================] - 0s 12ms/step - loss: 1.4811 - accuracy: 0.5000 - val_loss: 1.5687 - val_accuracy: 0.0000e+00\n",
      "Epoch 16/20\n",
      "1/1 [==============================] - 0s 12ms/step - loss: 1.4352 - accuracy: 0.5000 - val_loss: 1.5543 - val_accuracy: 0.0000e+00\n",
      "Epoch 17/20\n",
      "1/1 [==============================] - 0s 13ms/step - loss: 1.3874 - accuracy: 0.5000 - val_loss: 1.5395 - val_accuracy: 0.0000e+00\n",
      "Epoch 18/20\n",
      "1/1 [==============================] - 0s 12ms/step - loss: 1.4122 - accuracy: 0.5000 - val_loss: 1.5255 - val_accuracy: 0.0000e+00\n",
      "Epoch 19/20\n",
      "1/1 [==============================] - 0s 13ms/step - loss: 1.3981 - accuracy: 0.5000 - val_loss: 1.5113 - val_accuracy: 0.0000e+00\n",
      "Epoch 20/20\n",
      "1/1 [==============================] - 0s 13ms/step - loss: 1.3186 - accuracy: 0.5000 - val_loss: 1.4976 - val_accuracy: 0.0000e+00\n",
      "1/1 [==============================] - 0s 9ms/step\n",
      "Epoch 1/20\n",
      "7/7 [==============================] - 0s 7ms/step - loss: 2.3060 - accuracy: 0.1700 - val_loss: 2.2495 - val_accuracy: 0.1400\n",
      "Epoch 2/20\n",
      "7/7 [==============================] - 0s 4ms/step - loss: 2.0615 - accuracy: 0.2200 - val_loss: 2.1691 - val_accuracy: 0.1800\n",
      "Epoch 3/20\n",
      "1/7 [===>..........................] - ETA: 0s - loss: 1.7997 - accuracy: 0.4062"
     ]
    },
    {
     "name": "stderr",
     "output_type": "stream",
     "text": [
      "/Library/Frameworks/Python.framework/Versions/3.10/lib/python3.10/site-packages/sklearn/metrics/_classification.py:1469: UndefinedMetricWarning: Precision and F-score are ill-defined and being set to 0.0 in labels with no predicted samples. Use `zero_division` parameter to control this behavior.\n",
      "  _warn_prf(average, modifier, msg_start, len(result))\n",
      "/Library/Frameworks/Python.framework/Versions/3.10/lib/python3.10/site-packages/sklearn/metrics/_classification.py:1469: UndefinedMetricWarning: Precision and F-score are ill-defined and being set to 0.0 due to no predicted samples. Use `zero_division` parameter to control this behavior.\n",
      "  _warn_prf(average, modifier, msg_start, len(result))\n",
      "/Library/Frameworks/Python.framework/Versions/3.10/lib/python3.10/site-packages/sklearn/metrics/_classification.py:1469: UndefinedMetricWarning: Precision and F-score are ill-defined and being set to 0.0 in labels with no predicted samples. Use `zero_division` parameter to control this behavior.\n",
      "  _warn_prf(average, modifier, msg_start, len(result))\n",
      "/Library/Frameworks/Python.framework/Versions/3.10/lib/python3.10/site-packages/sklearn/metrics/_classification.py:1469: UndefinedMetricWarning: Precision and F-score are ill-defined and being set to 0.0 in labels with no predicted samples. Use `zero_division` parameter to control this behavior.\n",
      "  _warn_prf(average, modifier, msg_start, len(result))\n"
     ]
    },
    {
     "name": "stdout",
     "output_type": "stream",
     "text": [
      "7/7 [==============================] - 0s 3ms/step - loss: 1.9005 - accuracy: 0.2200 - val_loss: 2.1829 - val_accuracy: 0.1400\n",
      "Epoch 4/20\n",
      "7/7 [==============================] - 0s 3ms/step - loss: 1.8585 - accuracy: 0.2350 - val_loss: 2.1864 - val_accuracy: 0.1200\n",
      "Epoch 5/20\n",
      "7/7 [==============================] - 0s 3ms/step - loss: 1.8217 - accuracy: 0.2450 - val_loss: 2.1461 - val_accuracy: 0.1600\n",
      "Epoch 6/20\n",
      "7/7 [==============================] - 0s 3ms/step - loss: 1.7947 - accuracy: 0.2400 - val_loss: 2.1059 - val_accuracy: 0.1800\n",
      "Epoch 7/20\n",
      "7/7 [==============================] - 0s 3ms/step - loss: 1.7795 - accuracy: 0.2700 - val_loss: 2.1062 - val_accuracy: 0.1600\n",
      "Epoch 8/20\n",
      "7/7 [==============================] - 0s 3ms/step - loss: 1.7672 - accuracy: 0.2800 - val_loss: 2.0841 - val_accuracy: 0.1600\n",
      "Epoch 9/20\n",
      "7/7 [==============================] - 0s 3ms/step - loss: 1.7710 - accuracy: 0.2900 - val_loss: 2.0852 - val_accuracy: 0.1400\n",
      "Epoch 10/20\n",
      "7/7 [==============================] - 0s 3ms/step - loss: 1.7190 - accuracy: 0.2600 - val_loss: 2.0959 - val_accuracy: 0.1400\n",
      "Epoch 11/20\n",
      "7/7 [==============================] - 0s 3ms/step - loss: 1.7189 - accuracy: 0.3400 - val_loss: 2.1231 - val_accuracy: 0.1400\n",
      "Epoch 12/20\n",
      "7/7 [==============================] - 0s 3ms/step - loss: 1.6967 - accuracy: 0.3200 - val_loss: 2.1290 - val_accuracy: 0.1400\n",
      "Epoch 13/20\n",
      "7/7 [==============================] - 0s 3ms/step - loss: 1.6921 - accuracy: 0.3050 - val_loss: 2.1345 - val_accuracy: 0.1400\n",
      "Epoch 14/20\n",
      "7/7 [==============================] - 0s 3ms/step - loss: 1.6675 - accuracy: 0.3200 - val_loss: 2.1400 - val_accuracy: 0.1200\n",
      "Epoch 15/20\n",
      "7/7 [==============================] - 0s 3ms/step - loss: 1.6697 - accuracy: 0.3300 - val_loss: 2.1331 - val_accuracy: 0.1400\n",
      "Epoch 16/20\n",
      "7/7 [==============================] - 0s 3ms/step - loss: 1.6551 - accuracy: 0.3300 - val_loss: 2.1514 - val_accuracy: 0.1200\n",
      "Epoch 17/20\n",
      "7/7 [==============================] - 0s 3ms/step - loss: 1.6355 - accuracy: 0.3050 - val_loss: 2.1725 - val_accuracy: 0.1200\n",
      "Epoch 18/20\n",
      "7/7 [==============================] - 0s 3ms/step - loss: 1.6077 - accuracy: 0.3800 - val_loss: 2.1951 - val_accuracy: 0.1200\n",
      "Epoch 19/20\n",
      "7/7 [==============================] - 0s 3ms/step - loss: 1.5758 - accuracy: 0.3800 - val_loss: 2.2237 - val_accuracy: 0.1000\n",
      "Epoch 20/20\n",
      "7/7 [==============================] - 0s 3ms/step - loss: 1.5737 - accuracy: 0.3700 - val_loss: 2.2076 - val_accuracy: 0.1200\n",
      "5/5 [==============================] - 0s 500us/step\n",
      "Epoch 1/20\n",
      "1/1 [==============================] - 0s 33ms/step - loss: 1.8876 - accuracy: 0.1250 - val_loss: 2.5490 - val_accuracy: 0.0000e+00\n",
      "Epoch 2/20\n",
      "1/1 [==============================] - 0s 14ms/step - loss: 1.6602 - accuracy: 0.3750 - val_loss: 2.5211 - val_accuracy: 0.0000e+00\n",
      "Epoch 3/20\n",
      "1/1 [==============================] - 0s 13ms/step - loss: 1.5821 - accuracy: 0.1250 - val_loss: 2.4921 - val_accuracy: 0.0000e+00\n",
      "Epoch 4/20\n",
      "1/1 [==============================] - 0s 13ms/step - loss: 1.4914 - accuracy: 0.5000 - val_loss: 2.4746 - val_accuracy: 0.0000e+00\n",
      "Epoch 5/20\n",
      "1/1 [==============================] - 0s 14ms/step - loss: 1.4358 - accuracy: 0.6250 - val_loss: 2.4635 - val_accuracy: 0.0000e+00\n",
      "Epoch 6/20\n",
      "1/1 [==============================] - 0s 13ms/step - loss: 1.4416 - accuracy: 0.5000 - val_loss: 2.4594 - val_accuracy: 0.0000e+00\n",
      "Epoch 7/20\n",
      "1/1 [==============================] - 0s 13ms/step - loss: 1.2965 - accuracy: 0.6250 - val_loss: 2.4590 - val_accuracy: 0.0000e+00\n",
      "Epoch 8/20\n",
      "1/1 [==============================] - 0s 14ms/step - loss: 1.3135 - accuracy: 0.6250 - val_loss: 2.4585 - val_accuracy: 0.0000e+00\n",
      "Epoch 9/20\n",
      "1/1 [==============================] - 0s 12ms/step - loss: 1.2705 - accuracy: 0.5000 - val_loss: 2.4576 - val_accuracy: 0.0000e+00\n",
      "Epoch 10/20\n",
      "1/1 [==============================] - 0s 12ms/step - loss: 1.3298 - accuracy: 0.6250 - val_loss: 2.4551 - val_accuracy: 0.0000e+00\n",
      "Epoch 11/20\n",
      "1/1 [==============================] - 0s 12ms/step - loss: 1.3537 - accuracy: 0.3750 - val_loss: 2.4502 - val_accuracy: 0.0000e+00\n",
      "Epoch 12/20\n",
      "1/1 [==============================] - 0s 12ms/step - loss: 1.1975 - accuracy: 0.6250 - val_loss: 2.4386 - val_accuracy: 0.0000e+00\n",
      "Epoch 13/20\n",
      "1/1 [==============================] - 0s 12ms/step - loss: 1.1845 - accuracy: 0.6250 - val_loss: 2.4297 - val_accuracy: 0.0000e+00\n",
      "Epoch 14/20\n",
      "1/1 [==============================] - 0s 12ms/step - loss: 1.2264 - accuracy: 0.6250 - val_loss: 2.4243 - val_accuracy: 0.0000e+00\n",
      "Epoch 15/20\n",
      "1/1 [==============================] - 0s 13ms/step - loss: 1.0982 - accuracy: 0.6250 - val_loss: 2.4182 - val_accuracy: 0.0000e+00\n",
      "Epoch 16/20\n",
      "1/1 [==============================] - 0s 12ms/step - loss: 1.1162 - accuracy: 0.6250 - val_loss: 2.4091 - val_accuracy: 0.0000e+00\n",
      "Epoch 17/20\n",
      "1/1 [==============================] - 0s 12ms/step - loss: 1.1287 - accuracy: 0.6250 - val_loss: 2.4025 - val_accuracy: 0.0000e+00\n",
      "Epoch 18/20\n",
      "1/1 [==============================] - 0s 12ms/step - loss: 0.9633 - accuracy: 0.5000 - val_loss: 2.3959 - val_accuracy: 0.0000e+00\n",
      "Epoch 19/20\n",
      "1/1 [==============================] - 0s 12ms/step - loss: 1.0605 - accuracy: 0.7500 - val_loss: 2.3900 - val_accuracy: 0.0000e+00\n",
      "Epoch 20/20\n",
      "1/1 [==============================] - 0s 12ms/step - loss: 0.9717 - accuracy: 0.5000 - val_loss: 2.3850 - val_accuracy: 0.0000e+00\n",
      "1/1 [==============================] - 0s 9ms/step\n",
      "Epoch 1/20\n",
      "2/2 [==============================] - 0s 32ms/step - loss: 2.2625 - accuracy: 0.1538 - val_loss: 1.8455 - val_accuracy: 0.2857\n",
      "Epoch 2/20\n",
      "2/2 [==============================] - 0s 13ms/step - loss: 2.0085 - accuracy: 0.1923 - val_loss: 1.7812 - val_accuracy: 0.3571\n",
      "Epoch 3/20\n",
      "2/2 [==============================] - 0s 13ms/step - loss: 1.9997 - accuracy: 0.2692 - val_loss: 1.7394 - val_accuracy: 0.4286\n"
     ]
    },
    {
     "name": "stderr",
     "output_type": "stream",
     "text": [
      "/Library/Frameworks/Python.framework/Versions/3.10/lib/python3.10/site-packages/sklearn/metrics/_classification.py:1469: UndefinedMetricWarning: Precision and F-score are ill-defined and being set to 0.0 in labels with no predicted samples. Use `zero_division` parameter to control this behavior.\n",
      "  _warn_prf(average, modifier, msg_start, len(result))\n",
      "/Library/Frameworks/Python.framework/Versions/3.10/lib/python3.10/site-packages/sklearn/metrics/_classification.py:1469: UndefinedMetricWarning: Precision and F-score are ill-defined and being set to 0.0 in labels with no predicted samples. Use `zero_division` parameter to control this behavior.\n",
      "  _warn_prf(average, modifier, msg_start, len(result))\n",
      "/Library/Frameworks/Python.framework/Versions/3.10/lib/python3.10/site-packages/sklearn/metrics/_classification.py:1469: UndefinedMetricWarning: Precision and F-score are ill-defined and being set to 0.0 in labels with no predicted samples. Use `zero_division` parameter to control this behavior.\n",
      "  _warn_prf(average, modifier, msg_start, len(result))\n"
     ]
    },
    {
     "name": "stdout",
     "output_type": "stream",
     "text": [
      "Epoch 4/20\n",
      "2/2 [==============================] - 0s 13ms/step - loss: 1.7861 - accuracy: 0.3462 - val_loss: 1.7131 - val_accuracy: 0.3571\n",
      "Epoch 5/20\n",
      "2/2 [==============================] - 0s 13ms/step - loss: 1.8113 - accuracy: 0.3269 - val_loss: 1.7023 - val_accuracy: 0.3571\n",
      "Epoch 6/20\n",
      "2/2 [==============================] - 0s 13ms/step - loss: 1.6530 - accuracy: 0.3654 - val_loss: 1.6978 - val_accuracy: 0.3571\n",
      "Epoch 7/20\n",
      "2/2 [==============================] - 0s 13ms/step - loss: 1.6640 - accuracy: 0.3077 - val_loss: 1.6868 - val_accuracy: 0.3571\n",
      "Epoch 8/20\n",
      "2/2 [==============================] - 0s 13ms/step - loss: 1.6580 - accuracy: 0.3654 - val_loss: 1.6797 - val_accuracy: 0.3571\n",
      "Epoch 9/20\n",
      "2/2 [==============================] - 0s 12ms/step - loss: 1.5608 - accuracy: 0.4615 - val_loss: 1.6669 - val_accuracy: 0.4286\n",
      "Epoch 10/20\n",
      "2/2 [==============================] - 0s 12ms/step - loss: 1.4925 - accuracy: 0.4423 - val_loss: 1.6582 - val_accuracy: 0.4286\n",
      "Epoch 11/20\n",
      "2/2 [==============================] - 0s 12ms/step - loss: 1.5774 - accuracy: 0.4038 - val_loss: 1.6555 - val_accuracy: 0.4286\n",
      "Epoch 12/20\n",
      "2/2 [==============================] - 0s 13ms/step - loss: 1.4944 - accuracy: 0.4615 - val_loss: 1.6583 - val_accuracy: 0.4286\n",
      "Epoch 13/20\n",
      "2/2 [==============================] - 0s 13ms/step - loss: 1.4269 - accuracy: 0.4231 - val_loss: 1.6560 - val_accuracy: 0.4286\n",
      "Epoch 14/20\n",
      "2/2 [==============================] - 0s 13ms/step - loss: 1.3927 - accuracy: 0.4423 - val_loss: 1.6507 - val_accuracy: 0.4286\n",
      "Epoch 15/20\n",
      "2/2 [==============================] - 0s 13ms/step - loss: 1.3932 - accuracy: 0.4423 - val_loss: 1.6445 - val_accuracy: 0.4286\n",
      "Epoch 16/20\n",
      "2/2 [==============================] - 0s 13ms/step - loss: 1.3393 - accuracy: 0.5385 - val_loss: 1.6379 - val_accuracy: 0.4286\n",
      "Epoch 17/20\n",
      "2/2 [==============================] - 0s 13ms/step - loss: 1.3066 - accuracy: 0.5577 - val_loss: 1.6359 - val_accuracy: 0.4286\n",
      "Epoch 18/20\n",
      "2/2 [==============================] - 0s 12ms/step - loss: 1.2628 - accuracy: 0.5385 - val_loss: 1.6354 - val_accuracy: 0.4286\n",
      "Epoch 19/20\n",
      "2/2 [==============================] - 0s 13ms/step - loss: 1.2079 - accuracy: 0.5577 - val_loss: 1.6336 - val_accuracy: 0.4286\n",
      "Epoch 20/20\n",
      "2/2 [==============================] - 0s 12ms/step - loss: 1.3587 - accuracy: 0.4423 - val_loss: 1.6438 - val_accuracy: 0.4286\n",
      "2/2 [==============================] - 0s 835us/step\n",
      "Epoch 1/20\n",
      "4/4 [==============================] - 0s 12ms/step - loss: 2.3386 - accuracy: 0.1735 - val_loss: 2.4092 - val_accuracy: 0.1600\n",
      "Epoch 2/20\n",
      "4/4 [==============================] - 0s 5ms/step - loss: 2.0553 - accuracy: 0.2347 - val_loss: 2.5176 - val_accuracy: 0.0800\n",
      "Epoch 3/20\n",
      "4/4 [==============================] - 0s 5ms/step - loss: 1.9997 - accuracy: 0.1939 - val_loss: 2.5244 - val_accuracy: 0.0400\n",
      "Epoch 4/20\n"
     ]
    },
    {
     "name": "stderr",
     "output_type": "stream",
     "text": [
      "/Library/Frameworks/Python.framework/Versions/3.10/lib/python3.10/site-packages/sklearn/metrics/_classification.py:1469: UndefinedMetricWarning: Precision and F-score are ill-defined and being set to 0.0 in labels with no predicted samples. Use `zero_division` parameter to control this behavior.\n",
      "  _warn_prf(average, modifier, msg_start, len(result))\n",
      "/Library/Frameworks/Python.framework/Versions/3.10/lib/python3.10/site-packages/sklearn/metrics/_classification.py:1469: UndefinedMetricWarning: Precision and F-score are ill-defined and being set to 0.0 in labels with no predicted samples. Use `zero_division` parameter to control this behavior.\n",
      "  _warn_prf(average, modifier, msg_start, len(result))\n",
      "/Library/Frameworks/Python.framework/Versions/3.10/lib/python3.10/site-packages/sklearn/metrics/_classification.py:1469: UndefinedMetricWarning: Precision and F-score are ill-defined and being set to 0.0 in labels with no predicted samples. Use `zero_division` parameter to control this behavior.\n",
      "  _warn_prf(average, modifier, msg_start, len(result))\n"
     ]
    },
    {
     "name": "stdout",
     "output_type": "stream",
     "text": [
      "4/4 [==============================] - 0s 9ms/step - loss: 1.9333 - accuracy: 0.2041 - val_loss: 2.4926 - val_accuracy: 0.0800\n",
      "Epoch 5/20\n",
      "4/4 [==============================] - 0s 7ms/step - loss: 1.7738 - accuracy: 0.3061 - val_loss: 2.4579 - val_accuracy: 0.0800\n",
      "Epoch 6/20\n",
      "4/4 [==============================] - 0s 5ms/step - loss: 1.6771 - accuracy: 0.2449 - val_loss: 2.4257 - val_accuracy: 0.0800\n",
      "Epoch 7/20\n",
      "4/4 [==============================] - 0s 5ms/step - loss: 1.6810 - accuracy: 0.3571 - val_loss: 2.4423 - val_accuracy: 0.0800\n",
      "Epoch 8/20\n",
      "4/4 [==============================] - 0s 4ms/step - loss: 1.6060 - accuracy: 0.3673 - val_loss: 2.4732 - val_accuracy: 0.1600\n",
      "Epoch 9/20\n",
      "4/4 [==============================] - 0s 4ms/step - loss: 1.6142 - accuracy: 0.3571 - val_loss: 2.5021 - val_accuracy: 0.1600\n",
      "Epoch 10/20\n",
      "4/4 [==============================] - 0s 4ms/step - loss: 1.5957 - accuracy: 0.3776 - val_loss: 2.5519 - val_accuracy: 0.1600\n",
      "Epoch 11/20\n",
      "4/4 [==============================] - 0s 4ms/step - loss: 1.5293 - accuracy: 0.3878 - val_loss: 2.6034 - val_accuracy: 0.1600\n",
      "Epoch 12/20\n",
      "4/4 [==============================] - 0s 4ms/step - loss: 1.4642 - accuracy: 0.4082 - val_loss: 2.6406 - val_accuracy: 0.2000\n",
      "Epoch 13/20\n",
      "4/4 [==============================] - 0s 4ms/step - loss: 1.4865 - accuracy: 0.4490 - val_loss: 2.6582 - val_accuracy: 0.2000\n",
      "Epoch 14/20\n",
      "4/4 [==============================] - 0s 4ms/step - loss: 1.4078 - accuracy: 0.4490 - val_loss: 2.7068 - val_accuracy: 0.2000\n",
      "Epoch 15/20\n",
      "4/4 [==============================] - 0s 4ms/step - loss: 1.4058 - accuracy: 0.4592 - val_loss: 2.7874 - val_accuracy: 0.1600\n",
      "Epoch 16/20\n",
      "4/4 [==============================] - 0s 4ms/step - loss: 1.3943 - accuracy: 0.4592 - val_loss: 2.8830 - val_accuracy: 0.1600\n",
      "Epoch 17/20\n",
      "4/4 [==============================] - 0s 4ms/step - loss: 1.3028 - accuracy: 0.5510 - val_loss: 2.9911 - val_accuracy: 0.2000\n",
      "Epoch 18/20\n",
      "4/4 [==============================] - 0s 5ms/step - loss: 1.3422 - accuracy: 0.4898 - val_loss: 3.1024 - val_accuracy: 0.2400\n",
      "Epoch 19/20\n",
      "4/4 [==============================] - 0s 5ms/step - loss: 1.4140 - accuracy: 0.4490 - val_loss: 3.1602 - val_accuracy: 0.2400\n",
      "Epoch 20/20\n",
      "4/4 [==============================] - 0s 4ms/step - loss: 1.2485 - accuracy: 0.5306 - val_loss: 3.1207 - val_accuracy: 0.1600\n",
      "3/3 [==============================] - 0s 702us/step\n",
      "Epoch 1/20\n",
      "3/3 [==============================] - 0s 17ms/step - loss: 2.4314 - accuracy: 0.1212 - val_loss: 1.7934 - val_accuracy: 0.1765\n",
      "Epoch 2/20\n",
      "3/3 [==============================] - 0s 7ms/step - loss: 2.2060 - accuracy: 0.1818 - val_loss: 1.7786 - val_accuracy: 0.1765\n",
      "Epoch 3/20\n",
      "1/3 [=========>....................] - ETA: 0s - loss: 2.2879 - accuracy: 0.1875"
     ]
    },
    {
     "name": "stderr",
     "output_type": "stream",
     "text": [
      "/Library/Frameworks/Python.framework/Versions/3.10/lib/python3.10/site-packages/sklearn/metrics/_classification.py:1469: UndefinedMetricWarning: Precision and F-score are ill-defined and being set to 0.0 in labels with no predicted samples. Use `zero_division` parameter to control this behavior.\n",
      "  _warn_prf(average, modifier, msg_start, len(result))\n",
      "/Library/Frameworks/Python.framework/Versions/3.10/lib/python3.10/site-packages/sklearn/metrics/_classification.py:1469: UndefinedMetricWarning: Precision and F-score are ill-defined and being set to 0.0 in labels with no predicted samples. Use `zero_division` parameter to control this behavior.\n",
      "  _warn_prf(average, modifier, msg_start, len(result))\n",
      "/Library/Frameworks/Python.framework/Versions/3.10/lib/python3.10/site-packages/sklearn/metrics/_classification.py:1469: UndefinedMetricWarning: Precision and F-score are ill-defined and being set to 0.0 in labels with no predicted samples. Use `zero_division` parameter to control this behavior.\n",
      "  _warn_prf(average, modifier, msg_start, len(result))\n"
     ]
    },
    {
     "name": "stdout",
     "output_type": "stream",
     "text": [
      "3/3 [==============================] - 0s 7ms/step - loss: 2.0898 - accuracy: 0.2121 - val_loss: 1.7761 - val_accuracy: 0.1176\n",
      "Epoch 4/20\n",
      "3/3 [==============================] - 0s 7ms/step - loss: 1.9611 - accuracy: 0.1970 - val_loss: 1.7778 - val_accuracy: 0.1765\n",
      "Epoch 5/20\n",
      "3/3 [==============================] - 0s 7ms/step - loss: 1.8713 - accuracy: 0.2121 - val_loss: 1.7715 - val_accuracy: 0.2941\n",
      "Epoch 6/20\n",
      "3/3 [==============================] - 0s 7ms/step - loss: 1.8159 - accuracy: 0.1970 - val_loss: 1.7644 - val_accuracy: 0.2353\n",
      "Epoch 7/20\n",
      "3/3 [==============================] - 0s 7ms/step - loss: 1.7903 - accuracy: 0.1970 - val_loss: 1.7534 - val_accuracy: 0.1765\n",
      "Epoch 8/20\n",
      "3/3 [==============================] - 0s 6ms/step - loss: 1.7407 - accuracy: 0.2424 - val_loss: 1.7355 - val_accuracy: 0.1765\n",
      "Epoch 9/20\n",
      "3/3 [==============================] - 0s 6ms/step - loss: 1.6870 - accuracy: 0.2727 - val_loss: 1.7224 - val_accuracy: 0.2353\n",
      "Epoch 10/20\n",
      "3/3 [==============================] - 0s 6ms/step - loss: 1.6889 - accuracy: 0.3182 - val_loss: 1.7179 - val_accuracy: 0.2353\n",
      "Epoch 11/20\n",
      "3/3 [==============================] - 0s 6ms/step - loss: 1.6926 - accuracy: 0.3182 - val_loss: 1.7188 - val_accuracy: 0.1765\n",
      "Epoch 12/20\n",
      "3/3 [==============================] - 0s 6ms/step - loss: 1.6750 - accuracy: 0.2576 - val_loss: 1.7234 - val_accuracy: 0.1765\n",
      "Epoch 13/20\n",
      "3/3 [==============================] - 0s 6ms/step - loss: 1.5986 - accuracy: 0.2879 - val_loss: 1.7351 - val_accuracy: 0.1765\n",
      "Epoch 14/20\n",
      "3/3 [==============================] - 0s 6ms/step - loss: 1.7048 - accuracy: 0.2273 - val_loss: 1.7530 - val_accuracy: 0.2353\n",
      "Epoch 15/20\n",
      "3/3 [==============================] - 0s 6ms/step - loss: 1.6156 - accuracy: 0.3333 - val_loss: 1.7620 - val_accuracy: 0.2941\n",
      "Epoch 16/20\n",
      "3/3 [==============================] - 0s 6ms/step - loss: 1.6315 - accuracy: 0.2727 - val_loss: 1.7697 - val_accuracy: 0.2353\n",
      "Epoch 17/20\n",
      "3/3 [==============================] - 0s 6ms/step - loss: 1.5863 - accuracy: 0.3788 - val_loss: 1.7664 - val_accuracy: 0.2353\n",
      "Epoch 18/20\n",
      "3/3 [==============================] - 0s 6ms/step - loss: 1.5361 - accuracy: 0.3788 - val_loss: 1.7509 - val_accuracy: 0.1765\n",
      "Epoch 19/20\n",
      "3/3 [==============================] - 0s 6ms/step - loss: 1.5724 - accuracy: 0.3485 - val_loss: 1.7361 - val_accuracy: 0.1765\n",
      "Epoch 20/20\n",
      "3/3 [==============================] - 0s 6ms/step - loss: 1.5339 - accuracy: 0.4242 - val_loss: 1.7271 - val_accuracy: 0.1765\n",
      "2/2 [==============================] - 0s 864us/step\n"
     ]
    },
    {
     "name": "stderr",
     "output_type": "stream",
     "text": [
      "/Library/Frameworks/Python.framework/Versions/3.10/lib/python3.10/site-packages/sklearn/metrics/_classification.py:1469: UndefinedMetricWarning: Precision and F-score are ill-defined and being set to 0.0 in labels with no predicted samples. Use `zero_division` parameter to control this behavior.\n",
      "  _warn_prf(average, modifier, msg_start, len(result))\n",
      "/Library/Frameworks/Python.framework/Versions/3.10/lib/python3.10/site-packages/sklearn/metrics/_classification.py:1469: UndefinedMetricWarning: Precision and F-score are ill-defined and being set to 0.0 in labels with no predicted samples. Use `zero_division` parameter to control this behavior.\n",
      "  _warn_prf(average, modifier, msg_start, len(result))\n",
      "/Library/Frameworks/Python.framework/Versions/3.10/lib/python3.10/site-packages/sklearn/metrics/_classification.py:1469: UndefinedMetricWarning: Precision and F-score are ill-defined and being set to 0.0 in labels with no predicted samples. Use `zero_division` parameter to control this behavior.\n",
      "  _warn_prf(average, modifier, msg_start, len(result))\n"
     ]
    },
    {
     "name": "stdout",
     "output_type": "stream",
     "text": [
      "Epoch 1/20\n",
      "5/5 [==============================] - 0s 10ms/step - loss: 2.5204 - accuracy: 0.1656 - val_loss: 2.2680 - val_accuracy: 0.1053\n",
      "Epoch 2/20\n",
      "5/5 [==============================] - 0s 4ms/step - loss: 2.3054 - accuracy: 0.1788 - val_loss: 2.2207 - val_accuracy: 0.1316\n",
      "Epoch 3/20\n",
      "5/5 [==============================] - 0s 4ms/step - loss: 2.0657 - accuracy: 0.1192 - val_loss: 2.2304 - val_accuracy: 0.1053\n",
      "Epoch 4/20\n",
      "5/5 [==============================] - 0s 4ms/step - loss: 1.9783 - accuracy: 0.2119 - val_loss: 2.2052 - val_accuracy: 0.1842\n",
      "Epoch 5/20\n",
      "5/5 [==============================] - 0s 4ms/step - loss: 1.8506 - accuracy: 0.1987 - val_loss: 2.1581 - val_accuracy: 0.1842\n",
      "Epoch 6/20\n",
      "5/5 [==============================] - 0s 4ms/step - loss: 1.8176 - accuracy: 0.2649 - val_loss: 2.1145 - val_accuracy: 0.1842\n",
      "Epoch 7/20\n",
      "5/5 [==============================] - 0s 4ms/step - loss: 1.7644 - accuracy: 0.2715 - val_loss: 2.0900 - val_accuracy: 0.1316\n",
      "Epoch 8/20\n",
      "5/5 [==============================] - 0s 4ms/step - loss: 1.7474 - accuracy: 0.3046 - val_loss: 2.0729 - val_accuracy: 0.1579\n",
      "Epoch 9/20\n",
      "5/5 [==============================] - 0s 4ms/step - loss: 1.6703 - accuracy: 0.3113 - val_loss: 2.0586 - val_accuracy: 0.1316\n",
      "Epoch 10/20\n",
      "5/5 [==============================] - 0s 4ms/step - loss: 1.6914 - accuracy: 0.2649 - val_loss: 2.0549 - val_accuracy: 0.1579\n",
      "Epoch 11/20\n",
      "5/5 [==============================] - 0s 4ms/step - loss: 1.6753 - accuracy: 0.2781 - val_loss: 2.0570 - val_accuracy: 0.1053\n",
      "Epoch 12/20\n",
      "5/5 [==============================] - 0s 4ms/step - loss: 1.6272 - accuracy: 0.3311 - val_loss: 2.0630 - val_accuracy: 0.1053\n",
      "Epoch 13/20\n",
      "5/5 [==============================] - 0s 4ms/step - loss: 1.5930 - accuracy: 0.3709 - val_loss: 2.0714 - val_accuracy: 0.1053\n",
      "Epoch 14/20\n",
      "5/5 [==============================] - 0s 4ms/step - loss: 1.6160 - accuracy: 0.3245 - val_loss: 2.0766 - val_accuracy: 0.1053\n",
      "Epoch 15/20\n",
      "5/5 [==============================] - 0s 4ms/step - loss: 1.5871 - accuracy: 0.3974 - val_loss: 2.0803 - val_accuracy: 0.0789\n",
      "Epoch 16/20\n",
      "5/5 [==============================] - 0s 4ms/step - loss: 1.5465 - accuracy: 0.3576 - val_loss: 2.0845 - val_accuracy: 0.0789\n",
      "Epoch 17/20\n",
      "5/5 [==============================] - 0s 4ms/step - loss: 1.5001 - accuracy: 0.4238 - val_loss: 2.0951 - val_accuracy: 0.1053\n",
      "Epoch 18/20\n",
      "5/5 [==============================] - 0s 4ms/step - loss: 1.5765 - accuracy: 0.3841 - val_loss: 2.1103 - val_accuracy: 0.1053\n",
      "Epoch 19/20\n",
      "5/5 [==============================] - 0s 4ms/step - loss: 1.5066 - accuracy: 0.3709 - val_loss: 2.1190 - val_accuracy: 0.0526\n",
      "Epoch 20/20\n",
      "5/5 [==============================] - 0s 4ms/step - loss: 1.4292 - accuracy: 0.4305 - val_loss: 2.1348 - val_accuracy: 0.0526\n",
      "4/4 [==============================] - 0s 620us/step\n",
      "Testing Accuracy: 0.1771058291196823\n"
     ]
    },
    {
     "data": {
      "text/plain": [
       "<Figure size 1000x500 with 0 Axes>"
      ]
     },
     "metadata": {},
     "output_type": "display_data"
    },
    {
     "data": {
      "text/plain": [
       "<Figure size 1000x500 with 0 Axes>"
      ]
     },
     "metadata": {},
     "output_type": "display_data"
    },
    {
     "data": {
      "text/plain": [
       "<Figure size 1000x500 with 0 Axes>"
      ]
     },
     "metadata": {},
     "output_type": "display_data"
    },
    {
     "data": {
      "text/plain": [
       "<Figure size 1000x500 with 0 Axes>"
      ]
     },
     "metadata": {},
     "output_type": "display_data"
    },
    {
     "data": {
      "text/plain": [
       "<Figure size 1000x500 with 0 Axes>"
      ]
     },
     "metadata": {},
     "output_type": "display_data"
    },
    {
     "data": {
      "text/plain": [
       "<Figure size 1000x500 with 0 Axes>"
      ]
     },
     "metadata": {},
     "output_type": "display_data"
    },
    {
     "data": {
      "text/plain": [
       "<Figure size 1000x500 with 0 Axes>"
      ]
     },
     "metadata": {},
     "output_type": "display_data"
    },
    {
     "data": {
      "text/plain": [
       "<Figure size 1000x500 with 0 Axes>"
      ]
     },
     "metadata": {},
     "output_type": "display_data"
    },
    {
     "data": {
      "text/plain": [
       "<Figure size 1000x500 with 0 Axes>"
      ]
     },
     "metadata": {},
     "output_type": "display_data"
    },
    {
     "data": {
      "text/plain": [
       "<Figure size 1000x500 with 0 Axes>"
      ]
     },
     "metadata": {},
     "output_type": "display_data"
    },
    {
     "data": {
      "text/plain": [
       "<Figure size 1000x500 with 0 Axes>"
      ]
     },
     "metadata": {},
     "output_type": "display_data"
    },
    {
     "data": {
      "text/plain": [
       "<Figure size 1000x500 with 0 Axes>"
      ]
     },
     "metadata": {},
     "output_type": "display_data"
    },
    {
     "data": {
      "text/plain": [
       "<Figure size 1000x500 with 0 Axes>"
      ]
     },
     "metadata": {},
     "output_type": "display_data"
    }
   ],
   "source": [
    "import tensorflow as tf\n",
    "from tensorflow.keras.models import Sequential\n",
    "from tensorflow.keras.layers import Dense, Dropout\n",
    "model = Sequential([\n",
    "    Dense(100, activation='relu', input_shape=(X.shape[1],)),\n",
    "    Dropout(0.2),  # Dropout layer to prevent overfitting\n",
    "    Dense(50, activation='relu'),\n",
    "    Dropout(0.2),  # Dropout layer to prevent overfitting\n",
    "    Dense(20, activation='relu'),\n",
    "    Dense(15, activation='relu'),\n",
    "    Dense(10, activation='relu'),\n",
    "    Dense(8, activation='softmax')  # Output layer with 7 neurons for 7 rounds, using softmax activation for multi-class classification\n",
    "])\n",
    "model.compile(optimizer='adam', loss='sparse_categorical_crossentropy', metrics=['accuracy'])\n",
    "accuracy_per_group = {}\n",
    "position_groups = standardized_df.groupby(standardized_df.iloc[:, 4])\n",
    "for position, group_df in position_groups:\n",
    "    X = group_df.iloc[:, 31:]\n",
    "    y = group_df.iloc[:, 0]\n",
    "    if len(group_df) <= 1:\n",
    "        print(f\"Not enough samples for position group {position}. Skipping...\")\n",
    "        continue\n",
    "    X_train, X_test, y_train, y_test = train_test_split(X, y, test_size=0.35, random_state=42)\n",
    "    model.fit(X_train, y_train, epochs=20, batch_size=32, validation_split=0.2)\n",
    "    y_pred = np.argmax(model.predict(X_test), axis=1)\n",
    "    target_names = [f'Round {label}' for label in sorted(y_test.unique())]\n",
    "    report = classification_report(y_test, y_pred, target_names=target_names, labels=sorted(y_test.unique()), output_dict=True)\n",
    "    data = {key: report[key] for key in report.keys() if key != 'accuracy'}\n",
    "    df = pd.DataFrame(data).transpose()\n",
    "    plt.figure(figsize=(10, 5))\n",
    "    sns.heatmap(df.iloc[:, :3], annot=True, cmap='YlGnBu', fmt=\".2f\")\n",
    "    plt.title(f'Classification Report for Feed Forward Neural Network {position}')\n",
    "    plt.savefig(f'figs/Classification_Report_for_Feed_Forward_Neural_Network_{position}.png')\n",
    "    plt.clf()\n",
    "    accuracy = accuracy_score(y_test, y_pred)\n",
    "    accuracy_per_group[position] = accuracy\n",
    "plt.bar(list(accuracy_per_group.keys()), list(accuracy_per_group.values()), color=tab10_palette[9])\n",
    "plt.xlabel('Position Group')\n",
    "plt.ylabel('Accuracy')\n",
    "plt.title('Accuracy by Position Group from Feed Forward Neural Network')\n",
    "plt.ylim(0, 1)\n",
    "plt.tight_layout()\n",
    "plt.savefig(f'figs/Accuracy_by_Position_Group_from_Feed_Forward_Neural_Network.png')\n",
    "plt.clf()\n",
    "print(\"Testing Accuracy:\", test_accuracy)"
   ]
  },
  {
   "cell_type": "code",
   "execution_count": 19,
   "metadata": {},
   "outputs": [
    {
     "name": "stderr",
     "output_type": "stream",
     "text": [
      "/var/folders/qw/m6qrt3vj0976sf8ywwy1ls_h0000gn/T/ipykernel_96228/1663830063.py:41: UserWarning: The figure layout has changed to tight\n",
      "  plt.tight_layout()\n"
     ]
    },
    {
     "data": {
      "text/plain": [
       "<Figure size 1000x500 with 0 Axes>"
      ]
     },
     "metadata": {},
     "output_type": "display_data"
    },
    {
     "data": {
      "text/plain": [
       "<Figure size 1000x500 with 0 Axes>"
      ]
     },
     "metadata": {},
     "output_type": "display_data"
    },
    {
     "data": {
      "text/plain": [
       "<Figure size 1000x500 with 0 Axes>"
      ]
     },
     "metadata": {},
     "output_type": "display_data"
    },
    {
     "data": {
      "text/plain": [
       "<Figure size 1000x500 with 0 Axes>"
      ]
     },
     "metadata": {},
     "output_type": "display_data"
    },
    {
     "data": {
      "text/plain": [
       "<Figure size 1000x500 with 0 Axes>"
      ]
     },
     "metadata": {},
     "output_type": "display_data"
    },
    {
     "data": {
      "text/plain": [
       "<Figure size 1000x500 with 0 Axes>"
      ]
     },
     "metadata": {},
     "output_type": "display_data"
    },
    {
     "data": {
      "text/plain": [
       "<Figure size 1000x500 with 0 Axes>"
      ]
     },
     "metadata": {},
     "output_type": "display_data"
    },
    {
     "data": {
      "text/plain": [
       "<Figure size 1000x500 with 0 Axes>"
      ]
     },
     "metadata": {},
     "output_type": "display_data"
    },
    {
     "data": {
      "text/plain": [
       "<Figure size 1000x500 with 0 Axes>"
      ]
     },
     "metadata": {},
     "output_type": "display_data"
    },
    {
     "data": {
      "text/plain": [
       "<Figure size 1000x500 with 0 Axes>"
      ]
     },
     "metadata": {},
     "output_type": "display_data"
    },
    {
     "data": {
      "text/plain": [
       "<Figure size 1000x500 with 0 Axes>"
      ]
     },
     "metadata": {},
     "output_type": "display_data"
    },
    {
     "data": {
      "text/plain": [
       "<Figure size 1000x500 with 0 Axes>"
      ]
     },
     "metadata": {},
     "output_type": "display_data"
    },
    {
     "data": {
      "text/plain": [
       "<Figure size 1000x500 with 0 Axes>"
      ]
     },
     "metadata": {},
     "output_type": "display_data"
    }
   ],
   "source": [
    "from sklearn.ensemble import RandomForestClassifier\n",
    "accuracy_per_group = {}\n",
    "position_groups = standardized_df.groupby(standardized_df.iloc[:, 4])\n",
    "for position, group_df in position_groups:\n",
    "    X = group_df.iloc[:, 31:]\n",
    "    y = group_df.iloc[:, 0]\n",
    "    if len(group_df) <= 1:\n",
    "        print(f\"Not enough samples for position group {position}. Skipping...\")\n",
    "        continue\n",
    "    X_train, X_test, y_train, y_test = train_test_split(X, y, test_size=0.35, random_state=42)\n",
    "    model = RandomForestClassifier(n_estimators=100, random_state=42)\n",
    "    model.fit(X_train, y_train)\n",
    "    feature_importances = model.feature_importances_\n",
    "    y_pred = model.predict(X_test)\n",
    "    # target_names = [f'Round {label}' for label in sorted(y_test.unique())]\n",
    "    # data = {key: report[key] for key in report.keys() if key != 'accuracy'}\n",
    "    # df = pd.DataFrame(data).transpose()\n",
    "    # plt.figure(figsize=(10, 5))\n",
    "    # sns.heatmap(df.iloc[:, :3], annot=True, cmap='YlGnBu', fmt=\".2f\")\n",
    "    # plt.title(f'Classification Report for Support Vector {position}')\n",
    "    # plt.show()\n",
    "    plt.figure(figsize=(10, 5))\n",
    "    top_features_indices = feature_importances.argsort()[-20:][::-1]  # Get indices of top 20 features\n",
    "    top_features_importances = feature_importances[top_features_indices]\n",
    "    top_features_names = group_df.columns[31:][top_features_indices]\n",
    "    plt.bar(range(len(top_features_importances)), top_features_importances, color=tab10_palette[6])\n",
    "    plt.xticks(range(len(top_features_importances)), top_features_names, rotation=45, ha='right')\n",
    "    plt.xlabel('Feature')\n",
    "    plt.ylabel('Importance')\n",
    "    plt.title(f'Top 20 Feature Importance for Position Group {position}')\n",
    "    plt.tight_layout()\n",
    "    plt.savefig(f'figs/Top_20_Feature_Importance_for_Position_Group_{position}.png')\n",
    "    plt.clf()\n",
    "    accuracy = accuracy_score(y_test, y_pred)\n",
    "    accuracy_per_group[position] = accuracy\n",
    "plt.bar(list(accuracy_per_group.keys()), list(accuracy_per_group.values()), color=tab10_palette[2])\n",
    "plt.xlabel('Position Group')\n",
    "plt.ylabel('Accuracy')\n",
    "plt.title('Accuracy by Position Group from Random Forest')\n",
    "plt.ylim(0, 1)\n",
    "plt.tight_layout()\n",
    "plt.savefig(f'figs/Accuracy_by_Position_Group_from_Random_Forest.png')\n",
    "plt.clf()"
   ]
  }
 ],
 "metadata": {
  "kernelspec": {
   "display_name": "Python 3",
   "language": "python",
   "name": "python3"
  },
  "language_info": {
   "codemirror_mode": {
    "name": "ipython",
    "version": 3
   },
   "file_extension": ".py",
   "mimetype": "text/x-python",
   "name": "python",
   "nbconvert_exporter": "python",
   "pygments_lexer": "ipython3",
   "version": "3.10.8"
  }
 },
 "nbformat": 4,
 "nbformat_minor": 2
}
